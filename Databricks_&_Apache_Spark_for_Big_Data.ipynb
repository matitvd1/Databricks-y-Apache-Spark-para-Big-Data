{
  "nbformat": 4,
  "nbformat_minor": 0,
  "metadata": {
    "colab": {
      "provenance": [],
      "collapsed_sections": [
        "N4aYG5tAGHXg",
        "v144-gNlklKt",
        "17ldyz06k0ad"
      ]
    },
    "kernelspec": {
      "name": "python3",
      "display_name": "Python 3"
    },
    "language_info": {
      "name": "python"
    }
  },
  "cells": [
    {
      "cell_type": "code",
      "metadata": {
        "id": "48oytiZbA05Z"
      },
      "source": [
        "from bs4 import BeautifulSoup\n",
        "import requests\n",
        "import os\n",
        "import datetime\n",
        "import pandas as pd"
      ],
      "execution_count": 1,
      "outputs": []
    },
    {
      "cell_type": "code",
      "metadata": {
        "id": "08DYwFjIAd9c"
      },
      "source": [
        "# Instalación de Java\n",
        "!apt-get install openjdk-8-jdk-headless -qq > /dev/null"
      ],
      "execution_count": 2,
      "outputs": []
    },
    {
      "cell_type": "code",
      "metadata": {
        "id": "YQGh2qwzBC1X"
      },
      "source": [
        "#Obtener las versiones de spark la pagina web\n",
        "url = 'https://downloads.apache.org/spark/'\n",
        "r = requests.get(url)\n",
        "html_doc = r.text\n",
        "soup = BeautifulSoup(html_doc)"
      ],
      "execution_count": 3,
      "outputs": []
    },
    {
      "cell_type": "code",
      "metadata": {
        "colab": {
          "base_uri": "https://localhost:8080/"
        },
        "id": "hbIFT5f6BFBL",
        "outputId": "10909d7e-f2da-447e-b20c-24c2e43598ef"
      },
      "source": [
        "# read the web page and get the lastest versions available\n",
        "link_files = []\n",
        "for link in soup.find_all('a'):\n",
        "  link_files.append(link.get('href'))\n",
        "spark_link = [x for x in link_files if 'spark' in x]  \n",
        "ver_spark = spark_link[1][:-1] # get lastest versions of pyspark and drop remove '/' from the string\n",
        "print(ver_spark)"
      ],
      "execution_count": 4,
      "outputs": [
        {
          "output_type": "stream",
          "name": "stdout",
          "text": [
            "spark-3.2.2\n"
          ]
        }
      ]
    },
    {
      "cell_type": "code",
      "metadata": {
        "id": "AfD_goB9BP1k"
      },
      "source": [
        "# intall the wanted version\n",
        "!wget -q \"https://downloads.apache.org/spark/spark-3.2.2/spark-3.2.2-bin-hadoop2.7.tgz\"\n",
        "!tar xf spark-3.2.2-bin-hadoop2.7.tgz\n",
        "!pip install -q findspark"
      ],
      "execution_count": 5,
      "outputs": []
    },
    {
      "cell_type": "code",
      "metadata": {
        "id": "swJEAotCBXTB"
      },
      "source": [
        "# Set the proper enviroment\n",
        "os.environ[\"JAVA_HOME\"] = \"/usr/lib/jvm/java-8-openjdk-amd64\"\n",
        "os.environ[\"SPARK_HOME\"] = f\"/content/{ver_spark}-bin-hadoop2.7\""
      ],
      "execution_count": 6,
      "outputs": []
    },
    {
      "cell_type": "code",
      "source": [
        "!pip install databricks"
      ],
      "metadata": {
        "colab": {
          "base_uri": "https://localhost:8080/"
        },
        "id": "YauEcuIvMJS0",
        "outputId": "5185d9c5-20a8-44f8-89a3-c72956af5ce7"
      },
      "execution_count": 7,
      "outputs": [
        {
          "output_type": "stream",
          "name": "stdout",
          "text": [
            "Looking in indexes: https://pypi.org/simple, https://us-python.pkg.dev/colab-wheels/public/simple/\n",
            "Collecting databricks\n",
            "  Downloading databricks-0.2-py2.py3-none-any.whl (1.2 kB)\n",
            "Installing collected packages: databricks\n",
            "Successfully installed databricks-0.2\n"
          ]
        }
      ]
    },
    {
      "cell_type": "code",
      "source": [
        "!pip install koalas"
      ],
      "metadata": {
        "colab": {
          "base_uri": "https://localhost:8080/"
        },
        "id": "1ekVUpgmMYr1",
        "outputId": "dd98af9c-b905-4304-960b-ca14dc9d83b0"
      },
      "execution_count": 8,
      "outputs": [
        {
          "output_type": "stream",
          "name": "stdout",
          "text": [
            "Looking in indexes: https://pypi.org/simple, https://us-python.pkg.dev/colab-wheels/public/simple/\n",
            "Collecting koalas\n",
            "  Downloading koalas-1.8.2-py3-none-any.whl (390 kB)\n",
            "\u001b[K     |████████████████████████████████| 390 kB 6.6 MB/s \n",
            "\u001b[?25hRequirement already satisfied: numpy>=1.14 in /usr/local/lib/python3.7/dist-packages (from koalas) (1.21.6)\n",
            "Requirement already satisfied: pyarrow>=0.10 in /usr/local/lib/python3.7/dist-packages (from koalas) (6.0.1)\n",
            "Requirement already satisfied: pandas>=0.23.2 in /usr/local/lib/python3.7/dist-packages (from koalas) (1.3.5)\n",
            "Requirement already satisfied: python-dateutil>=2.7.3 in /usr/local/lib/python3.7/dist-packages (from pandas>=0.23.2->koalas) (2.8.2)\n",
            "Requirement already satisfied: pytz>=2017.3 in /usr/local/lib/python3.7/dist-packages (from pandas>=0.23.2->koalas) (2022.2.1)\n",
            "Requirement already satisfied: six>=1.5 in /usr/local/lib/python3.7/dist-packages (from python-dateutil>=2.7.3->pandas>=0.23.2->koalas) (1.15.0)\n",
            "Installing collected packages: koalas\n",
            "Successfully installed koalas-1.8.2\n"
          ]
        }
      ]
    },
    {
      "cell_type": "code",
      "metadata": {
        "id": "N4b3gZfDBcxt"
      },
      "source": [
        "# import libraries\n",
        "import findspark\n",
        "findspark.init()"
      ],
      "execution_count": 9,
      "outputs": []
    },
    {
      "cell_type": "code",
      "metadata": {
        "id": "1kqgRJY-dW6s",
        "colab": {
          "base_uri": "https://localhost:8080/"
        },
        "outputId": "4af8e83e-ff89-414b-fb79-490f2f90274d"
      },
      "source": [
        "from datetime import datetime\n",
        "from pyspark.sql import SparkSession, Window, Row, SQLContext\n",
        "from pyspark.sql.types import *\n",
        "from pyspark.sql.functions import *\n",
        "from pyspark import StorageLevel\n",
        "\n",
        "import databricks.koalas as ks\n",
        "import pandas as pd\n",
        "import numpy as np\n",
        "import matplotlib.pyplot as plt"
      ],
      "execution_count": 10,
      "outputs": [
        {
          "output_type": "stream",
          "name": "stderr",
          "text": [
            "WARNING:root:Found pyspark version \"3.2.2\" installed. The pyspark version 3.2 and above has a built-in \"pandas APIs on Spark\" module ported from Koalas. Try `import pyspark.pandas as ps` instead. \n",
            "WARNING:root:'PYARROW_IGNORE_TIMEZONE' environment variable was not set. It is required to set this environment variable to '1' in both driver and executor sides if you use pyarrow>=2.0.0. Koalas will set it for you but it does not work if there is a Spark context already launched.\n"
          ]
        }
      ]
    },
    {
      "cell_type": "code",
      "metadata": {
        "colab": {
          "base_uri": "https://localhost:8080/",
          "height": 219
        },
        "id": "9G2TJuT9GbcX",
        "outputId": "2f33729d-b657-4b68-fcbe-312269488a67"
      },
      "source": [
        "spark = SparkSession.builder.master(\"local[*]\").getOrCreate()\n",
        "spark"
      ],
      "execution_count": 11,
      "outputs": [
        {
          "output_type": "execute_result",
          "data": {
            "text/plain": [
              "<pyspark.sql.session.SparkSession at 0x7fcb21b03490>"
            ],
            "text/html": [
              "\n",
              "            <div>\n",
              "                <p><b>SparkSession - in-memory</b></p>\n",
              "                \n",
              "        <div>\n",
              "            <p><b>SparkContext</b></p>\n",
              "\n",
              "            <p><a href=\"http://b72305d2ff87:4040\">Spark UI</a></p>\n",
              "\n",
              "            <dl>\n",
              "              <dt>Version</dt>\n",
              "                <dd><code>v3.2.2</code></dd>\n",
              "              <dt>Master</dt>\n",
              "                <dd><code>local[*]</code></dd>\n",
              "              <dt>AppName</dt>\n",
              "                <dd><code>pyspark-shell</code></dd>\n",
              "            </dl>\n",
              "        </div>\n",
              "        \n",
              "            </div>\n",
              "        "
            ]
          },
          "metadata": {},
          "execution_count": 11
        }
      ]
    },
    {
      "cell_type": "markdown",
      "source": [
        "### Basic operations Dataframes"
      ],
      "metadata": {
        "id": "N4aYG5tAGHXg"
      }
    },
    {
      "cell_type": "code",
      "source": [
        "# Values for the dataframe\n",
        "emp = \\\n",
        "  [\n",
        "      (1, \"AAA\", \"dept1\", 1000),\n",
        "      (2, \"BBB\", \"dept1\", 1100),\n",
        "      (3, \"CCC\", \"dept1\", 3000),\n",
        "      (4, \"DDD\", \"dept1\", 1500),\n",
        "      (5, \"EEE\", \"dept2\", 8000),\n",
        "      (6, \"FFF\", \"dept2\", 7200),\n",
        "      (7, \"GGG\", \"dept3\", 7100),\n",
        "      (8, \"HHH\", \"dept3\", 3700),\n",
        "      (9, \"III\", \"dept3\", 4500),\n",
        "      (10, \"JJJ\", \"dept5\", 3400)\n",
        "  ]\n",
        "\n",
        "dept = \\\n",
        "  [\n",
        "      (\"dept1\", \"Department - 1\"),\n",
        "      (\"dept2\", \"Department - 2\"),\n",
        "      (\"dept3\", \"Department - 3\"),\n",
        "      (\"dept4\", \"Department - 4\")\n",
        "  ]"
      ],
      "metadata": {
        "id": "C62M7FXT81bq"
      },
      "execution_count": 12,
      "outputs": []
    },
    {
      "cell_type": "code",
      "source": [
        "# Create Dataframe\n",
        "df = spark.createDataFrame(emp, schema=['id', 'name', 'dept', 'salary'])\n",
        "\n",
        "df_dept = spark.createDataFrame(dept, schema=['id', 'name'])"
      ],
      "metadata": {
        "id": "AgXqO9wi9q0g"
      },
      "execution_count": 13,
      "outputs": []
    },
    {
      "cell_type": "code",
      "source": [
        "df.show(5)"
      ],
      "metadata": {
        "colab": {
          "base_uri": "https://localhost:8080/"
        },
        "id": "WJTBtDYA9qxu",
        "outputId": "a76fa407-7c0a-4e9f-9f50-92d539528d00"
      },
      "execution_count": null,
      "outputs": [
        {
          "output_type": "stream",
          "name": "stdout",
          "text": [
            "+---+----+-----+------+\n",
            "| id|name| dept|salary|\n",
            "+---+----+-----+------+\n",
            "|  1| AAA|dept1|  1000|\n",
            "|  2| BBB|dept1|  1100|\n",
            "|  3| CCC|dept1|  3000|\n",
            "|  4| DDD|dept1|  1500|\n",
            "|  5| EEE|dept2|  8000|\n",
            "+---+----+-----+------+\n",
            "only showing top 5 rows\n",
            "\n"
          ]
        }
      ]
    },
    {
      "cell_type": "code",
      "source": [
        "df_dept.show()"
      ],
      "metadata": {
        "colab": {
          "base_uri": "https://localhost:8080/"
        },
        "id": "xDGh9dCe9qvA",
        "outputId": "36f176b6-e760-49c9-ec44-458c9b9c520d"
      },
      "execution_count": null,
      "outputs": [
        {
          "output_type": "stream",
          "name": "stdout",
          "text": [
            "+-----+--------------+\n",
            "|   id|          name|\n",
            "+-----+--------------+\n",
            "|dept1|Department - 1|\n",
            "|dept2|Department - 2|\n",
            "|dept3|Department - 3|\n",
            "|dept4|Department - 4|\n",
            "+-----+--------------+\n",
            "\n"
          ]
        }
      ]
    },
    {
      "cell_type": "code",
      "source": [
        "# Create Dataframe from HIVE table\n",
        "df_hive = spark.table('table_name')"
      ],
      "metadata": {
        "id": "Cms7vxHa9qr-"
      },
      "execution_count": null,
      "outputs": []
    },
    {
      "cell_type": "code",
      "source": [
        "# Count number of rows\n",
        "df.count(), df_dept.count()"
      ],
      "metadata": {
        "colab": {
          "base_uri": "https://localhost:8080/"
        },
        "id": "ZLlFY9Kl9qlN",
        "outputId": "ed575f6a-94cf-480d-afc2-f9ed6c55a589"
      },
      "execution_count": null,
      "outputs": [
        {
          "output_type": "execute_result",
          "data": {
            "text/plain": [
              "(10, 4)"
            ]
          },
          "metadata": {},
          "execution_count": 34
        }
      ]
    },
    {
      "cell_type": "code",
      "source": [
        "# Columns of dataframe\n",
        "df.columns"
      ],
      "metadata": {
        "colab": {
          "base_uri": "https://localhost:8080/"
        },
        "id": "WYsOj538Gseo",
        "outputId": "d03ab72c-5dca-4f45-e4c5-37ddcdc40294"
      },
      "execution_count": null,
      "outputs": [
        {
          "output_type": "execute_result",
          "data": {
            "text/plain": [
              "['id', 'name', 'dept', 'salary']"
            ]
          },
          "metadata": {},
          "execution_count": 35
        }
      ]
    },
    {
      "cell_type": "code",
      "source": [
        "# Dataframe types\n",
        "df.dtypes"
      ],
      "metadata": {
        "colab": {
          "base_uri": "https://localhost:8080/"
        },
        "id": "Ru_DOwPOG4Fv",
        "outputId": "9c229b8d-e5c2-4d99-a112-492b061dbf58"
      },
      "execution_count": null,
      "outputs": [
        {
          "output_type": "execute_result",
          "data": {
            "text/plain": [
              "[('id', 'bigint'),\n",
              " ('name', 'string'),\n",
              " ('dept', 'string'),\n",
              " ('salary', 'bigint')]"
            ]
          },
          "metadata": {},
          "execution_count": 36
        }
      ]
    },
    {
      "cell_type": "code",
      "source": [
        "# Schema of dataframe\n",
        "df.schema"
      ],
      "metadata": {
        "colab": {
          "base_uri": "https://localhost:8080/"
        },
        "id": "GN2Ky2o3G9sP",
        "outputId": "af1ff218-69b3-4533-b2f7-0fdff6068014"
      },
      "execution_count": null,
      "outputs": [
        {
          "output_type": "execute_result",
          "data": {
            "text/plain": [
              "StructType(List(StructField(id,LongType,true),StructField(name,StringType,true),StructField(dept,StringType,true),StructField(salary,LongType,true)))"
            ]
          },
          "metadata": {},
          "execution_count": 38
        }
      ]
    },
    {
      "cell_type": "code",
      "source": [
        "df.printSchema()"
      ],
      "metadata": {
        "colab": {
          "base_uri": "https://localhost:8080/"
        },
        "id": "bYg5GkYAG4Cn",
        "outputId": "2052dab4-70b6-4fda-ffe9-8a24cf4f6dd5"
      },
      "execution_count": null,
      "outputs": [
        {
          "output_type": "stream",
          "name": "stdout",
          "text": [
            "root\n",
            " |-- id: long (nullable = true)\n",
            " |-- name: string (nullable = true)\n",
            " |-- dept: string (nullable = true)\n",
            " |-- salary: long (nullable = true)\n",
            "\n"
          ]
        }
      ]
    },
    {
      "cell_type": "code",
      "source": [
        "# Select columns from dataframe\n",
        "df.select(\"name\", \"dept\").show()"
      ],
      "metadata": {
        "colab": {
          "base_uri": "https://localhost:8080/"
        },
        "id": "Y2y6o3s3G3_e",
        "outputId": "5d58d6d4-d3c5-45bc-ab13-7dcecefb1f07"
      },
      "execution_count": null,
      "outputs": [
        {
          "output_type": "stream",
          "name": "stdout",
          "text": [
            "+----+-----+\n",
            "|name| dept|\n",
            "+----+-----+\n",
            "| AAA|dept1|\n",
            "| BBB|dept1|\n",
            "| CCC|dept1|\n",
            "| DDD|dept1|\n",
            "| EEE|dept2|\n",
            "| FFF|dept2|\n",
            "| GGG|dept3|\n",
            "| HHH|dept3|\n",
            "| III|dept3|\n",
            "| JJJ|dept5|\n",
            "+----+-----+\n",
            "\n"
          ]
        }
      ]
    },
    {
      "cell_type": "code",
      "source": [
        "# Filter rows by conditions\n",
        "df.filter(\"dept = 'dept3'\").show()"
      ],
      "metadata": {
        "colab": {
          "base_uri": "https://localhost:8080/"
        },
        "id": "7ZnfvtoBG38f",
        "outputId": "ba981ba3-7a7a-435a-c7c0-086bb1ccbb51"
      },
      "execution_count": null,
      "outputs": [
        {
          "output_type": "stream",
          "name": "stdout",
          "text": [
            "+---+----+-----+------+\n",
            "| id|name| dept|salary|\n",
            "+---+----+-----+------+\n",
            "|  7| GGG|dept3|  7100|\n",
            "|  8| HHH|dept3|  3700|\n",
            "|  9| III|dept3|  4500|\n",
            "+---+----+-----+------+\n",
            "\n"
          ]
        }
      ]
    },
    {
      "cell_type": "code",
      "source": [
        "df.filter(df.dept == 'dept3').show()"
      ],
      "metadata": {
        "colab": {
          "base_uri": "https://localhost:8080/"
        },
        "id": "-k26LRn2G35P",
        "outputId": "21a54bbb-d5fa-47b3-d434-4d5dab58539b"
      },
      "execution_count": null,
      "outputs": [
        {
          "output_type": "stream",
          "name": "stdout",
          "text": [
            "+---+----+-----+------+\n",
            "| id|name| dept|salary|\n",
            "+---+----+-----+------+\n",
            "|  7| GGG|dept3|  7100|\n",
            "|  8| HHH|dept3|  3700|\n",
            "|  9| III|dept3|  4500|\n",
            "+---+----+-----+------+\n",
            "\n"
          ]
        }
      ]
    },
    {
      "cell_type": "code",
      "source": [
        "df.filter(col('dept') == 'dept3').show()"
      ],
      "metadata": {
        "colab": {
          "base_uri": "https://localhost:8080/"
        },
        "id": "IB_BtWlLyNsp",
        "outputId": "bf03d182-12eb-495e-9525-6cfae95cac8e"
      },
      "execution_count": null,
      "outputs": [
        {
          "output_type": "stream",
          "name": "stdout",
          "text": [
            "+---+----+-----+------+\n",
            "| id|name| dept|salary|\n",
            "+---+----+-----+------+\n",
            "|  7| GGG|dept3|  7100|\n",
            "|  8| HHH|dept3|  3700|\n",
            "|  9| III|dept3|  4500|\n",
            "+---+----+-----+------+\n",
            "\n"
          ]
        }
      ]
    },
    {
      "cell_type": "code",
      "source": [
        "# Drop column from dataframe\n",
        "df.drop('salary','dept').show()"
      ],
      "metadata": {
        "colab": {
          "base_uri": "https://localhost:8080/"
        },
        "id": "QilxY-0EyNqB",
        "outputId": "d1c6f3ef-6780-41ba-ac4c-be57883f1ae1"
      },
      "execution_count": null,
      "outputs": [
        {
          "output_type": "stream",
          "name": "stdout",
          "text": [
            "+---+----+\n",
            "| id|name|\n",
            "+---+----+\n",
            "|  1| AAA|\n",
            "|  2| BBB|\n",
            "|  3| CCC|\n",
            "|  4| DDD|\n",
            "|  5| EEE|\n",
            "|  6| FFF|\n",
            "|  7| GGG|\n",
            "|  8| HHH|\n",
            "|  9| III|\n",
            "| 10| JJJ|\n",
            "+---+----+\n",
            "\n"
          ]
        }
      ]
    },
    {
      "cell_type": "code",
      "source": [
        "# Aggregations over dataframe\n",
        "df.\\\n",
        "  groupby('dept').\\\n",
        "  agg(\n",
        "      count('id').alias('count'),\n",
        "      max('salary').alias('max_salary'),\n",
        "      min('salary').alias('min_salary'),\n",
        "      avg('salary').alias('mean_salary')\n",
        "  ).show()"
      ],
      "metadata": {
        "colab": {
          "base_uri": "https://localhost:8080/"
        },
        "id": "H2Me7VAOyNnD",
        "outputId": "ee2711ea-814e-49c4-93b8-ecd909a21dac"
      },
      "execution_count": null,
      "outputs": [
        {
          "output_type": "stream",
          "name": "stdout",
          "text": [
            "+-----+-----+----------+----------+-----------+\n",
            "| dept|count|max_salary|min_salary|mean_salary|\n",
            "+-----+-----+----------+----------+-----------+\n",
            "|dept1|    4|      3000|      1000|     1650.0|\n",
            "|dept2|    2|      8000|      7200|     7600.0|\n",
            "|dept5|    1|      3400|      3400|     3400.0|\n",
            "|dept3|    3|      7100|      3700|     5100.0|\n",
            "+-----+-----+----------+----------+-----------+\n",
            "\n"
          ]
        }
      ]
    },
    {
      "cell_type": "code",
      "source": [
        "# Sort values by column\n",
        "df.sort('salary', ascending=False).show()"
      ],
      "metadata": {
        "colab": {
          "base_uri": "https://localhost:8080/"
        },
        "id": "-4nPsHUb0nyU",
        "outputId": "76049816-3bc7-4f43-aeda-170a96db44ea"
      },
      "execution_count": null,
      "outputs": [
        {
          "output_type": "stream",
          "name": "stdout",
          "text": [
            "+---+----+-----+------+\n",
            "| id|name| dept|salary|\n",
            "+---+----+-----+------+\n",
            "|  5| EEE|dept2|  8000|\n",
            "|  6| FFF|dept2|  7200|\n",
            "|  7| GGG|dept3|  7100|\n",
            "|  9| III|dept3|  4500|\n",
            "|  8| HHH|dept3|  3700|\n",
            "| 10| JJJ|dept5|  3400|\n",
            "|  3| CCC|dept1|  3000|\n",
            "|  4| DDD|dept1|  1500|\n",
            "|  2| BBB|dept1|  1100|\n",
            "|  1| AAA|dept1|  1000|\n",
            "+---+----+-----+------+\n",
            "\n"
          ]
        }
      ]
    },
    {
      "cell_type": "code",
      "source": [
        "df.sort(desc('salary')).show()"
      ],
      "metadata": {
        "colab": {
          "base_uri": "https://localhost:8080/"
        },
        "id": "VVNDWTYF0nBu",
        "outputId": "56349c6d-a95c-4ef7-8f55-5626a229d114"
      },
      "execution_count": null,
      "outputs": [
        {
          "output_type": "stream",
          "name": "stdout",
          "text": [
            "+---+----+-----+------+\n",
            "| id|name| dept|salary|\n",
            "+---+----+-----+------+\n",
            "|  5| EEE|dept2|  8000|\n",
            "|  6| FFF|dept2|  7200|\n",
            "|  7| GGG|dept3|  7100|\n",
            "|  9| III|dept3|  4500|\n",
            "|  8| HHH|dept3|  3700|\n",
            "| 10| JJJ|dept5|  3400|\n",
            "|  3| CCC|dept1|  3000|\n",
            "|  4| DDD|dept1|  1500|\n",
            "|  2| BBB|dept1|  1100|\n",
            "|  1| AAA|dept1|  1000|\n",
            "+---+----+-----+------+\n",
            "\n"
          ]
        }
      ]
    },
    {
      "cell_type": "code",
      "source": [
        "# Derived columns\n",
        "df.withColumn(\"bonus\", df.salary * .1).show()"
      ],
      "metadata": {
        "colab": {
          "base_uri": "https://localhost:8080/"
        },
        "id": "SOI6V2d60mzX",
        "outputId": "3460b17e-6bf0-4dce-91da-18a58fe94a44"
      },
      "execution_count": null,
      "outputs": [
        {
          "output_type": "stream",
          "name": "stdout",
          "text": [
            "+---+----+-----+------+-----+\n",
            "| id|name| dept|salary|bonus|\n",
            "+---+----+-----+------+-----+\n",
            "|  1| AAA|dept1|  1000|100.0|\n",
            "|  2| BBB|dept1|  1100|110.0|\n",
            "|  3| CCC|dept1|  3000|300.0|\n",
            "|  4| DDD|dept1|  1500|150.0|\n",
            "|  5| EEE|dept2|  8000|800.0|\n",
            "|  6| FFF|dept2|  7200|720.0|\n",
            "|  7| GGG|dept3|  7100|710.0|\n",
            "|  8| HHH|dept3|  3700|370.0|\n",
            "|  9| III|dept3|  4500|450.0|\n",
            "| 10| JJJ|dept5|  3400|340.0|\n",
            "+---+----+-----+------+-----+\n",
            "\n"
          ]
        }
      ]
    },
    {
      "cell_type": "code",
      "source": [
        "# Inner join\n",
        "df.join(df_dept, df_dept.id == df.dept).show()"
      ],
      "metadata": {
        "colab": {
          "base_uri": "https://localhost:8080/"
        },
        "id": "zb6XfPpndZaW",
        "outputId": "e437079d-afc5-497f-aee3-e1e455d92804"
      },
      "execution_count": null,
      "outputs": [
        {
          "output_type": "stream",
          "name": "stdout",
          "text": [
            "+---+----+-----+------+-----+--------------+\n",
            "| id|name| dept|salary|   id|          name|\n",
            "+---+----+-----+------+-----+--------------+\n",
            "|  1| AAA|dept1|  1000|dept1|Department - 1|\n",
            "|  2| BBB|dept1|  1100|dept1|Department - 1|\n",
            "|  3| CCC|dept1|  3000|dept1|Department - 1|\n",
            "|  4| DDD|dept1|  1500|dept1|Department - 1|\n",
            "|  5| EEE|dept2|  8000|dept2|Department - 2|\n",
            "|  6| FFF|dept2|  7200|dept2|Department - 2|\n",
            "|  7| GGG|dept3|  7100|dept3|Department - 3|\n",
            "|  8| HHH|dept3|  3700|dept3|Department - 3|\n",
            "|  9| III|dept3|  4500|dept3|Department - 3|\n",
            "+---+----+-----+------+-----+--------------+\n",
            "\n"
          ]
        }
      ]
    },
    {
      "cell_type": "code",
      "source": [
        "# Left join\n",
        "df.join(df_dept, df_dept.id == df.dept, 'left').show()"
      ],
      "metadata": {
        "colab": {
          "base_uri": "https://localhost:8080/"
        },
        "id": "ib7_gTeU0mv7",
        "outputId": "59559bc3-1ef5-44ba-b26b-7e2e18d396e8"
      },
      "execution_count": null,
      "outputs": [
        {
          "output_type": "stream",
          "name": "stdout",
          "text": [
            "+---+----+-----+------+-----+--------------+\n",
            "| id|name| dept|salary|   id|          name|\n",
            "+---+----+-----+------+-----+--------------+\n",
            "|  1| AAA|dept1|  1000|dept1|Department - 1|\n",
            "|  2| BBB|dept1|  1100|dept1|Department - 1|\n",
            "|  3| CCC|dept1|  3000|dept1|Department - 1|\n",
            "|  4| DDD|dept1|  1500|dept1|Department - 1|\n",
            "|  5| EEE|dept2|  8000|dept2|Department - 2|\n",
            "|  6| FFF|dept2|  7200|dept2|Department - 2|\n",
            "|  7| GGG|dept3|  7100|dept3|Department - 3|\n",
            "|  8| HHH|dept3|  3700|dept3|Department - 3|\n",
            "|  9| III|dept3|  4500|dept3|Department - 3|\n",
            "| 10| JJJ|dept5|  3400| null|          null|\n",
            "+---+----+-----+------+-----+--------------+\n",
            "\n"
          ]
        }
      ]
    },
    {
      "cell_type": "code",
      "source": [
        "# Right join\n",
        "df.join(df_dept, df_dept.id == df.dept, 'right').show()"
      ],
      "metadata": {
        "colab": {
          "base_uri": "https://localhost:8080/"
        },
        "id": "qWJcqo4VdYtS",
        "outputId": "d0a8ab85-9194-4987-8906-5815a1217bd9"
      },
      "execution_count": null,
      "outputs": [
        {
          "output_type": "stream",
          "name": "stdout",
          "text": [
            "+----+----+-----+------+-----+--------------+\n",
            "|  id|name| dept|salary|   id|          name|\n",
            "+----+----+-----+------+-----+--------------+\n",
            "|   1| AAA|dept1|  1000|dept1|Department - 1|\n",
            "|   2| BBB|dept1|  1100|dept1|Department - 1|\n",
            "|   3| CCC|dept1|  3000|dept1|Department - 1|\n",
            "|   4| DDD|dept1|  1500|dept1|Department - 1|\n",
            "|   5| EEE|dept2|  8000|dept2|Department - 2|\n",
            "|   6| FFF|dept2|  7200|dept2|Department - 2|\n",
            "|   7| GGG|dept3|  7100|dept3|Department - 3|\n",
            "|   8| HHH|dept3|  3700|dept3|Department - 3|\n",
            "|   9| III|dept3|  4500|dept3|Department - 3|\n",
            "|null|null| null|  null|dept4|Department - 4|\n",
            "+----+----+-----+------+-----+--------------+\n",
            "\n"
          ]
        }
      ]
    },
    {
      "cell_type": "code",
      "source": [
        "# Full outer join\n",
        "df.join(df_dept, df_dept.id == df.dept, 'outer').show()"
      ],
      "metadata": {
        "colab": {
          "base_uri": "https://localhost:8080/"
        },
        "id": "jOj1J6y1dYpe",
        "outputId": "f0f0e273-b11d-4eba-bba6-d93441014798"
      },
      "execution_count": null,
      "outputs": [
        {
          "output_type": "stream",
          "name": "stdout",
          "text": [
            "+----+----+-----+------+-----+--------------+\n",
            "|  id|name| dept|salary|   id|          name|\n",
            "+----+----+-----+------+-----+--------------+\n",
            "|   1| AAA|dept1|  1000|dept1|Department - 1|\n",
            "|   2| BBB|dept1|  1100|dept1|Department - 1|\n",
            "|   3| CCC|dept1|  3000|dept1|Department - 1|\n",
            "|   4| DDD|dept1|  1500|dept1|Department - 1|\n",
            "|   5| EEE|dept2|  8000|dept2|Department - 2|\n",
            "|   6| FFF|dept2|  7200|dept2|Department - 2|\n",
            "|   7| GGG|dept3|  7100|dept3|Department - 3|\n",
            "|   8| HHH|dept3|  3700|dept3|Department - 3|\n",
            "|   9| III|dept3|  4500|dept3|Department - 3|\n",
            "|null|null| null|  null|dept4|Department - 4|\n",
            "|  10| JJJ|dept5|  3400| null|          null|\n",
            "+----+----+-----+------+-----+--------------+\n",
            "\n"
          ]
        }
      ]
    },
    {
      "cell_type": "code",
      "source": [
        "# Spark SQL\n",
        "# Register dataframe as temporary view\n",
        "df.createOrReplaceTempView('df')\n",
        "df_dept.createOrReplaceTempView('df_dept')"
      ],
      "metadata": {
        "id": "PsULUohDdYi3"
      },
      "execution_count": null,
      "outputs": []
    },
    {
      "cell_type": "code",
      "source": [
        "# Spark SQL\n",
        "# Fetch data from temporary view\n",
        "spark.sql(\"SELECT * FROM df_temp WHERE id = 2\").show()"
      ],
      "metadata": {
        "colab": {
          "base_uri": "https://localhost:8080/"
        },
        "id": "7iRI_5V3dYe-",
        "outputId": "fa450b0d-96ec-4994-e2d1-5d55789a75fc"
      },
      "execution_count": null,
      "outputs": [
        {
          "output_type": "stream",
          "name": "stdout",
          "text": [
            "+---+----+-----+------+\n",
            "| id|name| dept|salary|\n",
            "+---+----+-----+------+\n",
            "|  2| BBB|dept1|  1100|\n",
            "+---+----+-----+------+\n",
            "\n"
          ]
        }
      ]
    },
    {
      "cell_type": "code",
      "source": [
        "spark.sql(\"SELECT DISTINCT dept FROM df_temp\").show()"
      ],
      "metadata": {
        "colab": {
          "base_uri": "https://localhost:8080/"
        },
        "id": "D7Pho_Kt0mjT",
        "outputId": "6a45b0f9-c301-41be-e8e4-26bc3775a5b7"
      },
      "execution_count": null,
      "outputs": [
        {
          "output_type": "stream",
          "name": "stdout",
          "text": [
            "+-----+\n",
            "| dept|\n",
            "+-----+\n",
            "|dept1|\n",
            "|dept2|\n",
            "|dept5|\n",
            "|dept3|\n",
            "+-----+\n",
            "\n"
          ]
        }
      ]
    },
    {
      "cell_type": "code",
      "source": [
        "spark.sql(\"SELECT * FROM df_temp WHERE salary >= 5000\").show()"
      ],
      "metadata": {
        "colab": {
          "base_uri": "https://localhost:8080/"
        },
        "id": "dKiYoBm90mfa",
        "outputId": "00578e0d-dbc9-4ae7-d21a-d944e29a5d34"
      },
      "execution_count": null,
      "outputs": [
        {
          "output_type": "stream",
          "name": "stdout",
          "text": [
            "+---+----+-----+------+\n",
            "| id|name| dept|salary|\n",
            "+---+----+-----+------+\n",
            "|  5| EEE|dept2|  8000|\n",
            "|  6| FFF|dept2|  7200|\n",
            "|  7| GGG|dept3|  7100|\n",
            "+---+----+-----+------+\n",
            "\n"
          ]
        }
      ]
    },
    {
      "cell_type": "code",
      "source": [
        "# Read HIVE table as dataframe\n",
        "df_hive = spark.table(\"DB_NAME\", \"TABLE_NAME\")"
      ],
      "metadata": {
        "id": "nhvTmhT7dbem"
      },
      "execution_count": null,
      "outputs": []
    },
    {
      "cell_type": "code",
      "source": [
        "# Save dataframe as HIVE table\n",
        "df.write.saveAsTable(\"DB_NAME\", \"TABLE_NAME\")\n",
        "\n",
        "# If you want to overwrite the table\n",
        "df.write.saveAsTable(\"DB_NAME\", \"TABLE_NAME\", mode='overwrite')\n",
        "\n",
        "# If you want to add new data to the table\n",
        "df.write.saveAsTable(\"DB_NAME\", \"TABLE_NAME\", mode='append')"
      ],
      "metadata": {
        "id": "jxWvnPEKg0VF"
      },
      "execution_count": null,
      "outputs": []
    },
    {
      "cell_type": "code",
      "source": [
        "# Save dataframe as an external HIVE table\n",
        "df.write.saveAsTable(\"DB_NAME\", \"TABLE_NAME\", path='LOCATION_TO_SAVE_TABLE')"
      ],
      "metadata": {
        "id": "PDb_RcM8g0Rn"
      },
      "execution_count": null,
      "outputs": []
    },
    {
      "cell_type": "code",
      "source": [
        "# Save dataframe as csv\n",
        "df.write.csv(\"path_to_csv_file\", sep=\"|\", header=True, mode=\"overwrite\")"
      ],
      "metadata": {
        "id": "UmZvPSt3g0PX"
      },
      "execution_count": null,
      "outputs": []
    },
    {
      "cell_type": "code",
      "source": [
        "# Create dataframe from a table\n",
        "df_relational = spark.read.format(\"jdbc\")\\\n",
        "                          .options(url=\"URL\", dbtable=\"TABLE_NAME\", user=\"USER_NAME\", password=\"PASSWORD\")\\\n",
        "                          .load()"
      ],
      "metadata": {
        "id": "4hm9fn2wg0My"
      },
      "execution_count": null,
      "outputs": []
    },
    {
      "cell_type": "code",
      "source": [
        "# Save table as a relational table\n",
        "spark.write.format(\"jdbc\")\\\n",
        "           .options(url=\"URL\", dbtable=\"TABLE_NAME\", user=\"USER_NAME\", password=\"PASSWORD\")\\\n",
        "           .mode(\"overwrite\")\\\n",
        "           .save()"
      ],
      "metadata": {
        "id": "HB718ZB4dbaa"
      },
      "execution_count": null,
      "outputs": []
    },
    {
      "cell_type": "markdown",
      "source": [
        "### Advanced functions "
      ],
      "metadata": {
        "id": "v144-gNlklKt"
      }
    },
    {
      "cell_type": "code",
      "source": [
        "df.write.saveAsTable('hive_df', mode='overwrite')\n",
        "df.write.saveAsTable('hive_df_dept', mode='overwrite')"
      ],
      "metadata": {
        "id": "IDQSzpLYn4O8"
      },
      "execution_count": null,
      "outputs": []
    },
    {
      "cell_type": "code",
      "source": [
        "# Broadcast join\n",
        "\n",
        "# Get size of small table\n",
        "size = int(''.join([i for i in spark.conf.get(\"spark.sql.autoBroadcastJoinThreshold\") if i.isnumeric()])) / (1024 * 1024)\n",
        "print(f'Default size of broadcast table is {size} MB')"
      ],
      "metadata": {
        "colab": {
          "base_uri": "https://localhost:8080/"
        },
        "id": "U5suAIsijSfA",
        "outputId": "0d340d8e-f194-49bd-dcbb-8fd7768b9751"
      },
      "execution_count": null,
      "outputs": [
        {
          "output_type": "stream",
          "name": "stdout",
          "text": [
            "Default size of broadcast table is 10.0 MB\n"
          ]
        }
      ]
    },
    {
      "cell_type": "code",
      "source": [
        "# Modify default size of Broadcast table\n",
        "spark.conf.set(\"spark.sql.autoBroadcastJoinThreshold\", 50 * 1024 * 1024)"
      ],
      "metadata": {
        "id": "tT8USKnQjSbd"
      },
      "execution_count": null,
      "outputs": []
    },
    {
      "cell_type": "code",
      "source": [
        "# Consider we need to join 2 dataframes\n",
        "# small_df: small df that can be stored in memory and is smaller than the default Broadcast threshold\n",
        "# big_df: big df that will be joined with the smaller df\n",
        "\n",
        "join_df = big_df.join(broadcast(small_df), small_df.id == big_df.id)"
      ],
      "metadata": {
        "id": "_qacrFQDjSYj"
      },
      "execution_count": null,
      "outputs": []
    },
    {
      "cell_type": "code",
      "source": [
        "# Cache Storage - to keep dataframe in memory. An excesive use of cache will have the contrary expected performance\n",
        "df.cache()\n",
        "df.count()\n",
        "print(f\"Memory used: {df.storageLevel.useMemory}\")\n",
        "print(f\"Disk used: {df.storageLevel.useDisk}\")"
      ],
      "metadata": {
        "colab": {
          "base_uri": "https://localhost:8080/"
        },
        "id": "7qJDanTIjSTG",
        "outputId": "0a3620ad-e294-4fe5-d857-3c7cce732d3e"
      },
      "execution_count": null,
      "outputs": [
        {
          "output_type": "stream",
          "name": "stdout",
          "text": [
            "Memory used: True\n",
            "Disk used: True\n"
          ]
        }
      ]
    },
    {
      "cell_type": "code",
      "source": [
        "# If we need to specify the different available storage levels we can use persist(). As an example, if we have to keep the dataframe only in memory we can use the following code:\n",
        "df_dept.persist(StorageLevel.MEMORY_ONLY)\n",
        "df_dept.count()\n",
        "print(f\"Memory used: {df_dept.storageLevel.useMemory}\")\n",
        "print(f\"Disk used: {df_dept.storageLevel.useDisk}\")"
      ],
      "metadata": {
        "colab": {
          "base_uri": "https://localhost:8080/"
        },
        "id": "oOC186zMjSNr",
        "outputId": "7196c10b-03a1-4536-aec1-43dbbf60455b"
      },
      "execution_count": null,
      "outputs": [
        {
          "output_type": "stream",
          "name": "stdout",
          "text": [
            "Memory used: True\n",
            "Disk used: False\n"
          ]
        }
      ]
    },
    {
      "cell_type": "code",
      "source": [
        "# Unpersist data. It is important to keep in mind that when data is no longer used, it should be removed from the cache memory\n",
        "# To remove a specific table stored in the cache memory use the following function\n",
        "df.unpersist()\n",
        "print(f\"Memory used: {df.storageLevel.useMemory}\")\n",
        "print(f\"Disk used: {df.storageLevel.useDisk}\")"
      ],
      "metadata": {
        "colab": {
          "base_uri": "https://localhost:8080/"
        },
        "id": "wH0YbkK8SQys",
        "outputId": "be7f90df-da15-4ecb-ab72-406f4d9ed920"
      },
      "execution_count": null,
      "outputs": [
        {
          "output_type": "stream",
          "name": "stdout",
          "text": [
            "Memory used: False\n",
            "Disk used: False\n"
          ]
        }
      ]
    },
    {
      "cell_type": "code",
      "source": [
        "# To remove all tables stored in cache memory use the following code\n",
        "# For example, where spark is a SparkSession and sc is a sparkContext:\n",
        "sc = SQLContext.getOrCreate(SparkContext.getOrCreate())\n",
        "sc.clearCache()"
      ],
      "metadata": {
        "id": "PbWRWK0xjSLF"
      },
      "execution_count": null,
      "outputs": []
    },
    {
      "cell_type": "code",
      "source": [
        "# SQL Expressions\n",
        "sql_expr = \\\n",
        "    \"CASE WHEN salary > 5000 THEN 'high_salary'\\\n",
        "          WHEN salary < 0 THEN 'invalid_salary'\\\n",
        "          WHEN salary <= 2000 THEN 'low_salary'\\\n",
        "          ELSE 'mid_salary'  END\\\n",
        "    \"\n",
        "\n",
        "df.withColumn('class_salary', expr(sql_expr)).show()"
      ],
      "metadata": {
        "colab": {
          "base_uri": "https://localhost:8080/"
        },
        "id": "b2lV12-DjSIO",
        "outputId": "bdef1512-3715-4fa5-90de-8565f61bdd8c"
      },
      "execution_count": null,
      "outputs": [
        {
          "output_type": "stream",
          "name": "stdout",
          "text": [
            "+---+----+-----+------+------------+\n",
            "| id|name| dept|salary|class_salary|\n",
            "+---+----+-----+------+------------+\n",
            "|  1| AAA|dept1|  1000|  low_salary|\n",
            "|  2| BBB|dept1|  1100|  low_salary|\n",
            "|  3| CCC|dept1|  3000|  mid_salary|\n",
            "|  4| DDD|dept1|  1500|  low_salary|\n",
            "|  5| EEE|dept2|  8000| high_salary|\n",
            "|  6| FFF|dept2|  7200| high_salary|\n",
            "|  7| GGG|dept3|  7100| high_salary|\n",
            "|  8| HHH|dept3|  3700|  mid_salary|\n",
            "|  9| III|dept3|  4500|  mid_salary|\n",
            "| 10| JJJ|dept5|  3400|  mid_salary|\n",
            "+---+----+-----+------+------------+\n",
            "\n"
          ]
        }
      ]
    },
    {
      "cell_type": "code",
      "source": [
        "# User Defined Functions (UDF)\n",
        "def_sal_level = lambda x: 'high_salary' if x > 5000 else 'invalid_salary' if x < 0 else 'low salary' if x <= 2000 else 'mid_salary'\n",
        "\n",
        "sal_level = udf(def_sal_level, StringType())\n",
        "\n",
        "df.withColumn('sal_level', sal_level('salary')).show()"
      ],
      "metadata": {
        "colab": {
          "base_uri": "https://localhost:8080/"
        },
        "id": "Xx1C9t_IjSFW",
        "outputId": "a544a067-98bd-4632-843c-e655f9976939"
      },
      "execution_count": null,
      "outputs": [
        {
          "output_type": "stream",
          "name": "stdout",
          "text": [
            "+---+----+-----+------+-----------+\n",
            "| id|name| dept|salary|  sal_level|\n",
            "+---+----+-----+------+-----------+\n",
            "|  1| AAA|dept1|  1000| low salary|\n",
            "|  2| BBB|dept1|  1100| low salary|\n",
            "|  3| CCC|dept1|  3000| mid_salary|\n",
            "|  4| DDD|dept1|  1500| low salary|\n",
            "|  5| EEE|dept2|  8000|high_salary|\n",
            "|  6| FFF|dept2|  7200|high_salary|\n",
            "|  7| GGG|dept3|  7100|high_salary|\n",
            "|  8| HHH|dept3|  3700| mid_salary|\n",
            "|  9| III|dept3|  4500| mid_salary|\n",
            "| 10| JJJ|dept5|  3400| mid_salary|\n",
            "+---+----+-----+------+-----------+\n",
            "\n"
          ]
        }
      ]
    },
    {
      "cell_type": "code",
      "source": [
        "# Dealing with null values \n",
        "null_df = df.filter(df.dept.isNull())\n",
        "null_df.show()"
      ],
      "metadata": {
        "colab": {
          "base_uri": "https://localhost:8080/"
        },
        "id": "iMdzNAnI0mbe",
        "outputId": "28008022-1e6d-4dcb-d7d3-6f8c3dfe7272"
      },
      "execution_count": null,
      "outputs": [
        {
          "output_type": "stream",
          "name": "stdout",
          "text": [
            "+---+----+----+------+\n",
            "| id|name|dept|salary|\n",
            "+---+----+----+------+\n",
            "+---+----+----+------+\n",
            "\n"
          ]
        }
      ]
    },
    {
      "cell_type": "code",
      "source": [
        "df.withColumn('null_val', df.dept.isNull()).show()"
      ],
      "metadata": {
        "colab": {
          "base_uri": "https://localhost:8080/"
        },
        "id": "zvIz3V4TWC6J",
        "outputId": "31dab57c-9a89-4830-9ae9-8ae8192d2214"
      },
      "execution_count": null,
      "outputs": [
        {
          "output_type": "stream",
          "name": "stdout",
          "text": [
            "+---+----+-----+------+--------+\n",
            "| id|name| dept|salary|null_val|\n",
            "+---+----+-----+------+--------+\n",
            "|  1| AAA|dept1|  1000|   false|\n",
            "|  2| BBB|dept1|  1100|   false|\n",
            "|  3| CCC|dept1|  3000|   false|\n",
            "|  4| DDD|dept1|  1500|   false|\n",
            "|  5| EEE|dept2|  8000|   false|\n",
            "|  6| FFF|dept2|  7200|   false|\n",
            "|  7| GGG|dept3|  7100|   false|\n",
            "|  8| HHH|dept3|  3700|   false|\n",
            "|  9| III|dept3|  4500|   false|\n",
            "| 10| JJJ|dept5|  3400|   false|\n",
            "+---+----+-----+------+--------+\n",
            "\n"
          ]
        }
      ]
    },
    {
      "cell_type": "code",
      "source": [
        "df.filter(df.dept.isNotNull()).show()"
      ],
      "metadata": {
        "colab": {
          "base_uri": "https://localhost:8080/"
        },
        "id": "Zi5bDF0qWC3s",
        "outputId": "5b49b15f-6c4b-4a39-c405-c79951334fe6"
      },
      "execution_count": null,
      "outputs": [
        {
          "output_type": "stream",
          "name": "stdout",
          "text": [
            "+---+----+-----+------+\n",
            "| id|name| dept|salary|\n",
            "+---+----+-----+------+\n",
            "|  1| AAA|dept1|  1000|\n",
            "|  2| BBB|dept1|  1100|\n",
            "|  3| CCC|dept1|  3000|\n",
            "|  4| DDD|dept1|  1500|\n",
            "|  5| EEE|dept2|  8000|\n",
            "|  6| FFF|dept2|  7200|\n",
            "|  7| GGG|dept3|  7100|\n",
            "|  8| HHH|dept3|  3700|\n",
            "|  9| III|dept3|  4500|\n",
            "| 10| JJJ|dept5|  3400|\n",
            "+---+----+-----+------+\n",
            "\n"
          ]
        }
      ]
    },
    {
      "cell_type": "code",
      "source": [
        "# Fill null values\n",
        "# Raname df to avoid ambiguous columns names\n",
        "renamed_dept_df = df_dept.withColumnRenamed('id', 'id_dept').withColumnRenamed('name', 'dept_name')\n",
        "\n",
        "# Create df with null values\n",
        "df_null = df.join(renamed_dept_df, df.dept == renamed_dept_df.id_dept, 'outer')\n",
        "\n",
        "# Fill null value from a specific column\n",
        "df_null.fillna(\"INVALID_DEPT\", 'dept').show()"
      ],
      "metadata": {
        "colab": {
          "base_uri": "https://localhost:8080/"
        },
        "id": "PfoTsKjtWC0w",
        "outputId": "69979ab0-bba8-4138-ab2a-715855b866bb"
      },
      "execution_count": null,
      "outputs": [
        {
          "output_type": "stream",
          "name": "stdout",
          "text": [
            "+----+----+------------+------+-------+--------------+\n",
            "|  id|name|        dept|salary|id_dept|     dept_name|\n",
            "+----+----+------------+------+-------+--------------+\n",
            "|   1| AAA|       dept1|  1000|  dept1|Department - 1|\n",
            "|   2| BBB|       dept1|  1100|  dept1|Department - 1|\n",
            "|   3| CCC|       dept1|  3000|  dept1|Department - 1|\n",
            "|   4| DDD|       dept1|  1500|  dept1|Department - 1|\n",
            "|   5| EEE|       dept2|  8000|  dept2|Department - 2|\n",
            "|   6| FFF|       dept2|  7200|  dept2|Department - 2|\n",
            "|   7| GGG|       dept3|  7100|  dept3|Department - 3|\n",
            "|   8| HHH|       dept3|  3700|  dept3|Department - 3|\n",
            "|   9| III|       dept3|  4500|  dept3|Department - 3|\n",
            "|null|null|INVALID_DEPT|  null|  dept4|Department - 4|\n",
            "|  10| JJJ|       dept5|  3400|   null|          null|\n",
            "+----+----+------------+------+-------+--------------+\n",
            "\n"
          ]
        }
      ]
    },
    {
      "cell_type": "code",
      "source": [
        "# Fill all null values of the dataset in the columns that have the same data type \n",
        "df_null.fillna(\"INVALID_DEPT\").fillna(50).show()"
      ],
      "metadata": {
        "colab": {
          "base_uri": "https://localhost:8080/"
        },
        "id": "rVFiIhYVutQ9",
        "outputId": "238a8ee6-f0c7-43fe-8a21-84c02c344fb7"
      },
      "execution_count": null,
      "outputs": [
        {
          "output_type": "stream",
          "name": "stdout",
          "text": [
            "+---+------------+------------+------+------------+--------------+\n",
            "| id|        name|        dept|salary|     id_dept|     dept_name|\n",
            "+---+------------+------------+------+------------+--------------+\n",
            "|  1|         AAA|       dept1|  1000|       dept1|Department - 1|\n",
            "|  2|         BBB|       dept1|  1100|       dept1|Department - 1|\n",
            "|  3|         CCC|       dept1|  3000|       dept1|Department - 1|\n",
            "|  4|         DDD|       dept1|  1500|       dept1|Department - 1|\n",
            "|  5|         EEE|       dept2|  8000|       dept2|Department - 2|\n",
            "|  6|         FFF|       dept2|  7200|       dept2|Department - 2|\n",
            "|  7|         GGG|       dept3|  7100|       dept3|Department - 3|\n",
            "|  8|         HHH|       dept3|  3700|       dept3|Department - 3|\n",
            "|  9|         III|       dept3|  4500|       dept3|Department - 3|\n",
            "| 50|INVALID_DEPT|INVALID_DEPT|    50|       dept4|Department - 4|\n",
            "| 10|         JJJ|       dept5|  3400|INVALID_DEPT|  INVALID_DEPT|\n",
            "+---+------------+------------+------+------------+--------------+\n",
            "\n"
          ]
        }
      ]
    },
    {
      "cell_type": "code",
      "source": [
        "# Drop rows where there is any null value\n",
        "df_null.dropna().show()"
      ],
      "metadata": {
        "colab": {
          "base_uri": "https://localhost:8080/"
        },
        "id": "xq2Ukb_jfHS7",
        "outputId": "89fa48b5-4b2e-4d6a-84fa-0184f334394f"
      },
      "execution_count": null,
      "outputs": [
        {
          "output_type": "stream",
          "name": "stdout",
          "text": [
            "+---+----+-----+------+-------+--------------+\n",
            "| id|name| dept|salary|id_dept|     dept_name|\n",
            "+---+----+-----+------+-------+--------------+\n",
            "|  1| AAA|dept1|  1000|  dept1|Department - 1|\n",
            "|  2| BBB|dept1|  1100|  dept1|Department - 1|\n",
            "|  3| CCC|dept1|  3000|  dept1|Department - 1|\n",
            "|  4| DDD|dept1|  1500|  dept1|Department - 1|\n",
            "|  5| EEE|dept2|  8000|  dept2|Department - 2|\n",
            "|  6| FFF|dept2|  7200|  dept2|Department - 2|\n",
            "|  7| GGG|dept3|  7100|  dept3|Department - 3|\n",
            "|  8| HHH|dept3|  3700|  dept3|Department - 3|\n",
            "|  9| III|dept3|  4500|  dept3|Department - 3|\n",
            "+---+----+-----+------+-------+--------------+\n",
            "\n"
          ]
        }
      ]
    },
    {
      "cell_type": "code",
      "source": [
        "# Drop rows where all values are null\n",
        "df_null.dropna(how='all').show()"
      ],
      "metadata": {
        "colab": {
          "base_uri": "https://localhost:8080/"
        },
        "id": "dTVV1M5hghxE",
        "outputId": "e8a837d0-e2c2-4d3b-c573-104746c96e30"
      },
      "execution_count": null,
      "outputs": [
        {
          "output_type": "stream",
          "name": "stdout",
          "text": [
            "+----+----+-----+------+-------+--------------+\n",
            "|  id|name| dept|salary|id_dept|     dept_name|\n",
            "+----+----+-----+------+-------+--------------+\n",
            "|   1| AAA|dept1|  1000|  dept1|Department - 1|\n",
            "|   2| BBB|dept1|  1100|  dept1|Department - 1|\n",
            "|   3| CCC|dept1|  3000|  dept1|Department - 1|\n",
            "|   4| DDD|dept1|  1500|  dept1|Department - 1|\n",
            "|   5| EEE|dept2|  8000|  dept2|Department - 2|\n",
            "|   6| FFF|dept2|  7200|  dept2|Department - 2|\n",
            "|   7| GGG|dept3|  7100|  dept3|Department - 3|\n",
            "|   8| HHH|dept3|  3700|  dept3|Department - 3|\n",
            "|   9| III|dept3|  4500|  dept3|Department - 3|\n",
            "|null|null| null|  null|  dept4|Department - 4|\n",
            "|  10| JJJ|dept5|  3400|   null|          null|\n",
            "+----+----+-----+------+-------+--------------+\n",
            "\n"
          ]
        }
      ]
    },
    {
      "cell_type": "code",
      "source": [
        "# Drop rows where there are null values in a specific column\n",
        "df_null.dropna(subset='id_dept').show()"
      ],
      "metadata": {
        "colab": {
          "base_uri": "https://localhost:8080/"
        },
        "id": "ipa8N470ghuh",
        "outputId": "b8d61c45-f06c-4a89-ff54-44970badd1bd"
      },
      "execution_count": null,
      "outputs": [
        {
          "output_type": "stream",
          "name": "stdout",
          "text": [
            "+----+----+-----+------+-------+--------------+\n",
            "|  id|name| dept|salary|id_dept|     dept_name|\n",
            "+----+----+-----+------+-------+--------------+\n",
            "|   1| AAA|dept1|  1000|  dept1|Department - 1|\n",
            "|   2| BBB|dept1|  1100|  dept1|Department - 1|\n",
            "|   3| CCC|dept1|  3000|  dept1|Department - 1|\n",
            "|   4| DDD|dept1|  1500|  dept1|Department - 1|\n",
            "|   5| EEE|dept2|  8000|  dept2|Department - 2|\n",
            "|   6| FFF|dept2|  7200|  dept2|Department - 2|\n",
            "|   7| GGG|dept3|  7100|  dept3|Department - 3|\n",
            "|   8| HHH|dept3|  3700|  dept3|Department - 3|\n",
            "|   9| III|dept3|  4500|  dept3|Department - 3|\n",
            "|null|null| null|  null|  dept4|Department - 4|\n",
            "+----+----+-----+------+-------+--------------+\n",
            "\n"
          ]
        }
      ]
    },
    {
      "cell_type": "markdown",
      "source": [
        "### Databricks Utilities"
      ],
      "metadata": {
        "id": "17ldyz06k0ad"
      }
    },
    {
      "cell_type": "code",
      "source": [
        "# Databricks module that provides various utilities for users to interact with the rest of Databricks\n",
        "dbutils.help()\n",
        "\n",
        "# To inspect within an utility, i.e the Databricks filesystem (DBFS) run:\n",
        "dbutils.fs.help()\n",
        "\n",
        "# To inspect a command within an utility, using the previous example, run:\n",
        "dbutils.fs.help(\"ls\")"
      ],
      "metadata": {
        "id": "1atUeoFNjGR4"
      },
      "execution_count": null,
      "outputs": []
    },
    {
      "cell_type": "code",
      "source": [
        "# Install python library in databricks\n",
        "dbutils.library.installPyPI(\"ipywidgets\")\n",
        "\n",
        "# Restart python\n",
        "dbutils.library.restartPython()"
      ],
      "metadata": {
        "id": "AiL9UQ8zghHt"
      },
      "execution_count": null,
      "outputs": []
    },
    {
      "cell_type": "code",
      "source": [
        "# To integrate or run multiple notebooks within one notebook you can use the \"notebook\" ultility\n",
        "dbtuils.notebook.run(\"NAME_OF_NOTEBOOK\")\n",
        "\n",
        "# To exit notebook\n",
        "dbtuils.notebook.exit(\"NAME_OF_NOTEBOOK\")"
      ],
      "metadata": {
        "id": "6Q6F4RIjjGOg"
      },
      "execution_count": null,
      "outputs": []
    },
    {
      "cell_type": "code",
      "source": [
        "# Version of Databricks Runtime\n",
        "# Some utilities are available depending on the Databricks version, so in order to check the current version in the notebook you can run the following code\n",
        "spark.conf.get(\"spark.databricks.clusterUsageTags.sparkVersion\")"
      ],
      "metadata": {
        "id": "JnyTQ3g6ghrn"
      },
      "execution_count": null,
      "outputs": []
    },
    {
      "cell_type": "markdown",
      "source": [
        "### Apache Spark Koalas (Pandas implementation in Spark)"
      ],
      "metadata": {
        "id": "olzSuXShNaBY"
      }
    },
    {
      "cell_type": "code",
      "source": [
        "# Create a Series\n",
        "ks.Series([1, 2, 3, np.nan, 6, 8])"
      ],
      "metadata": {
        "colab": {
          "base_uri": "https://localhost:8080/"
        },
        "id": "I47tloy0NY7N",
        "outputId": "db88da7d-9fcf-495d-ac76-4acbfed904eb"
      },
      "execution_count": null,
      "outputs": [
        {
          "output_type": "execute_result",
          "data": {
            "text/plain": [
              "0    1.0\n",
              "1    2.0\n",
              "2    3.0\n",
              "3    NaN\n",
              "4    6.0\n",
              "5    8.0\n",
              "dtype: float64"
            ]
          },
          "metadata": {},
          "execution_count": 16
        }
      ]
    },
    {
      "cell_type": "code",
      "source": [
        "# Create dataframe\n",
        "kdf = ks.DataFrame(\n",
        "          {'a':[1, 2, 3, 4, 5, 6],\n",
        "          'b':[100, 200, 300, 400, 500, 600],\n",
        "          'c':['one', 'two', 'three', 'four', 'five', 'six']}\n",
        "      )\n",
        "\n",
        "kdf"
      ],
      "metadata": {
        "colab": {
          "base_uri": "https://localhost:8080/",
          "height": 237
        },
        "id": "rUFFTgdrN--s",
        "outputId": "23871691-0c76-4363-898e-1a2ae80343f2"
      },
      "execution_count": null,
      "outputs": [
        {
          "output_type": "execute_result",
          "data": {
            "text/plain": [
              "   a    b      c\n",
              "0  1  100    one\n",
              "1  2  200    two\n",
              "2  3  300  three\n",
              "3  4  400   four\n",
              "4  5  500   five\n",
              "5  6  600    six"
            ],
            "text/html": [
              "<div>\n",
              "<style scoped>\n",
              "    .dataframe tbody tr th:only-of-type {\n",
              "        vertical-align: middle;\n",
              "    }\n",
              "\n",
              "    .dataframe tbody tr th {\n",
              "        vertical-align: top;\n",
              "    }\n",
              "\n",
              "    .dataframe thead th {\n",
              "        text-align: right;\n",
              "    }\n",
              "</style>\n",
              "<table border=\"1\" class=\"dataframe\">\n",
              "  <thead>\n",
              "    <tr style=\"text-align: right;\">\n",
              "      <th></th>\n",
              "      <th>a</th>\n",
              "      <th>b</th>\n",
              "      <th>c</th>\n",
              "    </tr>\n",
              "  </thead>\n",
              "  <tbody>\n",
              "    <tr>\n",
              "      <th>0</th>\n",
              "      <td>1</td>\n",
              "      <td>100</td>\n",
              "      <td>one</td>\n",
              "    </tr>\n",
              "    <tr>\n",
              "      <th>1</th>\n",
              "      <td>2</td>\n",
              "      <td>200</td>\n",
              "      <td>two</td>\n",
              "    </tr>\n",
              "    <tr>\n",
              "      <th>2</th>\n",
              "      <td>3</td>\n",
              "      <td>300</td>\n",
              "      <td>three</td>\n",
              "    </tr>\n",
              "    <tr>\n",
              "      <th>3</th>\n",
              "      <td>4</td>\n",
              "      <td>400</td>\n",
              "      <td>four</td>\n",
              "    </tr>\n",
              "    <tr>\n",
              "      <th>4</th>\n",
              "      <td>5</td>\n",
              "      <td>500</td>\n",
              "      <td>five</td>\n",
              "    </tr>\n",
              "    <tr>\n",
              "      <th>5</th>\n",
              "      <td>6</td>\n",
              "      <td>600</td>\n",
              "      <td>six</td>\n",
              "    </tr>\n",
              "  </tbody>\n",
              "</table>\n",
              "</div>"
            ]
          },
          "metadata": {},
          "execution_count": 17
        }
      ]
    },
    {
      "cell_type": "code",
      "source": [
        "# Create a date range\n",
        "ks.date_range('2022-09-01', periods=10)"
      ],
      "metadata": {
        "colab": {
          "base_uri": "https://localhost:8080/"
        },
        "id": "mfNOKyj6N-7u",
        "outputId": "736fa833-84a8-47a2-f83f-821903ba6dcf"
      },
      "execution_count": null,
      "outputs": [
        {
          "output_type": "execute_result",
          "data": {
            "text/plain": [
              "DatetimeIndex(['2022-09-01', '2022-09-02', '2022-09-03', '2022-09-04',\n",
              "               '2022-09-05', '2022-09-06', '2022-09-07', '2022-09-08',\n",
              "               '2022-09-09', '2022-09-10'],\n",
              "              dtype='datetime64[ns]', freq=None)"
            ]
          },
          "metadata": {},
          "execution_count": 18
        }
      ]
    },
    {
      "cell_type": "code",
      "source": [
        "# Use date range as index. In this case we had to use pandas index.\n",
        "date_kdf = ks.DataFrame(np.random.randn(6, 4), index=pd.date_range('2022-09-01', periods=6), columns=['A', 'B', 'C', 'D'])\n",
        "\n",
        "print(type(date_kdf))\n",
        "date_kdf"
      ],
      "metadata": {
        "colab": {
          "base_uri": "https://localhost:8080/",
          "height": 255
        },
        "id": "ZMpQ2BYVN-1k",
        "outputId": "9a30c328-025e-4a8a-ab22-2f4b76e95575"
      },
      "execution_count": null,
      "outputs": [
        {
          "output_type": "stream",
          "name": "stdout",
          "text": [
            "<class 'databricks.koalas.frame.DataFrame'>\n"
          ]
        },
        {
          "output_type": "execute_result",
          "data": {
            "text/plain": [
              "                   A         B         C         D\n",
              "2022-09-01 -1.339130  0.043300 -0.269675 -3.305451\n",
              "2022-09-02 -0.198881 -1.406262  0.085938 -0.038813\n",
              "2022-09-03 -1.648130 -0.031433 -2.100018 -0.754290\n",
              "2022-09-04  0.424384  1.491198 -0.636984  0.972359\n",
              "2022-09-05 -0.367869 -3.227347 -0.398589 -1.016282\n",
              "2022-09-06  0.504600  0.719060  0.291448  1.397297"
            ],
            "text/html": [
              "<div>\n",
              "<style scoped>\n",
              "    .dataframe tbody tr th:only-of-type {\n",
              "        vertical-align: middle;\n",
              "    }\n",
              "\n",
              "    .dataframe tbody tr th {\n",
              "        vertical-align: top;\n",
              "    }\n",
              "\n",
              "    .dataframe thead th {\n",
              "        text-align: right;\n",
              "    }\n",
              "</style>\n",
              "<table border=\"1\" class=\"dataframe\">\n",
              "  <thead>\n",
              "    <tr style=\"text-align: right;\">\n",
              "      <th></th>\n",
              "      <th>A</th>\n",
              "      <th>B</th>\n",
              "      <th>C</th>\n",
              "      <th>D</th>\n",
              "    </tr>\n",
              "  </thead>\n",
              "  <tbody>\n",
              "    <tr>\n",
              "      <th>2022-09-01</th>\n",
              "      <td>-1.339130</td>\n",
              "      <td>0.043300</td>\n",
              "      <td>-0.269675</td>\n",
              "      <td>-3.305451</td>\n",
              "    </tr>\n",
              "    <tr>\n",
              "      <th>2022-09-02</th>\n",
              "      <td>-0.198881</td>\n",
              "      <td>-1.406262</td>\n",
              "      <td>0.085938</td>\n",
              "      <td>-0.038813</td>\n",
              "    </tr>\n",
              "    <tr>\n",
              "      <th>2022-09-03</th>\n",
              "      <td>-1.648130</td>\n",
              "      <td>-0.031433</td>\n",
              "      <td>-2.100018</td>\n",
              "      <td>-0.754290</td>\n",
              "    </tr>\n",
              "    <tr>\n",
              "      <th>2022-09-04</th>\n",
              "      <td>0.424384</td>\n",
              "      <td>1.491198</td>\n",
              "      <td>-0.636984</td>\n",
              "      <td>0.972359</td>\n",
              "    </tr>\n",
              "    <tr>\n",
              "      <th>2022-09-05</th>\n",
              "      <td>-0.367869</td>\n",
              "      <td>-3.227347</td>\n",
              "      <td>-0.398589</td>\n",
              "      <td>-1.016282</td>\n",
              "    </tr>\n",
              "    <tr>\n",
              "      <th>2022-09-06</th>\n",
              "      <td>0.504600</td>\n",
              "      <td>0.719060</td>\n",
              "      <td>0.291448</td>\n",
              "      <td>1.397297</td>\n",
              "    </tr>\n",
              "  </tbody>\n",
              "</table>\n",
              "</div>"
            ]
          },
          "metadata": {},
          "execution_count": 19
        }
      ]
    },
    {
      "cell_type": "code",
      "source": [
        "# Convert koalas into pandas dataframe\n",
        "date_pdf = date_kdf.to_pandas()\n",
        "\n",
        "print(type(date_pdf))\n",
        "date_pdf"
      ],
      "metadata": {
        "colab": {
          "base_uri": "https://localhost:8080/",
          "height": 255
        },
        "id": "e4oi98v1N-wS",
        "outputId": "227ffe10-18ab-4c79-9358-19fec58b4251"
      },
      "execution_count": null,
      "outputs": [
        {
          "output_type": "stream",
          "name": "stdout",
          "text": [
            "<class 'pandas.core.frame.DataFrame'>\n"
          ]
        },
        {
          "output_type": "execute_result",
          "data": {
            "text/plain": [
              "                   A         B         C         D\n",
              "2022-09-01 -1.339130  0.043300 -0.269675 -3.305451\n",
              "2022-09-02 -0.198881 -1.406262  0.085938 -0.038813\n",
              "2022-09-03 -1.648130 -0.031433 -2.100018 -0.754290\n",
              "2022-09-04  0.424384  1.491198 -0.636984  0.972359\n",
              "2022-09-05 -0.367869 -3.227347 -0.398589 -1.016282\n",
              "2022-09-06  0.504600  0.719060  0.291448  1.397297"
            ],
            "text/html": [
              "\n",
              "  <div id=\"df-9a760811-2eb6-48a9-8925-5a0b36b6c548\">\n",
              "    <div class=\"colab-df-container\">\n",
              "      <div>\n",
              "<style scoped>\n",
              "    .dataframe tbody tr th:only-of-type {\n",
              "        vertical-align: middle;\n",
              "    }\n",
              "\n",
              "    .dataframe tbody tr th {\n",
              "        vertical-align: top;\n",
              "    }\n",
              "\n",
              "    .dataframe thead th {\n",
              "        text-align: right;\n",
              "    }\n",
              "</style>\n",
              "<table border=\"1\" class=\"dataframe\">\n",
              "  <thead>\n",
              "    <tr style=\"text-align: right;\">\n",
              "      <th></th>\n",
              "      <th>A</th>\n",
              "      <th>B</th>\n",
              "      <th>C</th>\n",
              "      <th>D</th>\n",
              "    </tr>\n",
              "  </thead>\n",
              "  <tbody>\n",
              "    <tr>\n",
              "      <th>2022-09-01</th>\n",
              "      <td>-1.339130</td>\n",
              "      <td>0.043300</td>\n",
              "      <td>-0.269675</td>\n",
              "      <td>-3.305451</td>\n",
              "    </tr>\n",
              "    <tr>\n",
              "      <th>2022-09-02</th>\n",
              "      <td>-0.198881</td>\n",
              "      <td>-1.406262</td>\n",
              "      <td>0.085938</td>\n",
              "      <td>-0.038813</td>\n",
              "    </tr>\n",
              "    <tr>\n",
              "      <th>2022-09-03</th>\n",
              "      <td>-1.648130</td>\n",
              "      <td>-0.031433</td>\n",
              "      <td>-2.100018</td>\n",
              "      <td>-0.754290</td>\n",
              "    </tr>\n",
              "    <tr>\n",
              "      <th>2022-09-04</th>\n",
              "      <td>0.424384</td>\n",
              "      <td>1.491198</td>\n",
              "      <td>-0.636984</td>\n",
              "      <td>0.972359</td>\n",
              "    </tr>\n",
              "    <tr>\n",
              "      <th>2022-09-05</th>\n",
              "      <td>-0.367869</td>\n",
              "      <td>-3.227347</td>\n",
              "      <td>-0.398589</td>\n",
              "      <td>-1.016282</td>\n",
              "    </tr>\n",
              "    <tr>\n",
              "      <th>2022-09-06</th>\n",
              "      <td>0.504600</td>\n",
              "      <td>0.719060</td>\n",
              "      <td>0.291448</td>\n",
              "      <td>1.397297</td>\n",
              "    </tr>\n",
              "  </tbody>\n",
              "</table>\n",
              "</div>\n",
              "      <button class=\"colab-df-convert\" onclick=\"convertToInteractive('df-9a760811-2eb6-48a9-8925-5a0b36b6c548')\"\n",
              "              title=\"Convert this dataframe to an interactive table.\"\n",
              "              style=\"display:none;\">\n",
              "        \n",
              "  <svg xmlns=\"http://www.w3.org/2000/svg\" height=\"24px\"viewBox=\"0 0 24 24\"\n",
              "       width=\"24px\">\n",
              "    <path d=\"M0 0h24v24H0V0z\" fill=\"none\"/>\n",
              "    <path d=\"M18.56 5.44l.94 2.06.94-2.06 2.06-.94-2.06-.94-.94-2.06-.94 2.06-2.06.94zm-11 1L8.5 8.5l.94-2.06 2.06-.94-2.06-.94L8.5 2.5l-.94 2.06-2.06.94zm10 10l.94 2.06.94-2.06 2.06-.94-2.06-.94-.94-2.06-.94 2.06-2.06.94z\"/><path d=\"M17.41 7.96l-1.37-1.37c-.4-.4-.92-.59-1.43-.59-.52 0-1.04.2-1.43.59L10.3 9.45l-7.72 7.72c-.78.78-.78 2.05 0 2.83L4 21.41c.39.39.9.59 1.41.59.51 0 1.02-.2 1.41-.59l7.78-7.78 2.81-2.81c.8-.78.8-2.07 0-2.86zM5.41 20L4 18.59l7.72-7.72 1.47 1.35L5.41 20z\"/>\n",
              "  </svg>\n",
              "      </button>\n",
              "      \n",
              "  <style>\n",
              "    .colab-df-container {\n",
              "      display:flex;\n",
              "      flex-wrap:wrap;\n",
              "      gap: 12px;\n",
              "    }\n",
              "\n",
              "    .colab-df-convert {\n",
              "      background-color: #E8F0FE;\n",
              "      border: none;\n",
              "      border-radius: 50%;\n",
              "      cursor: pointer;\n",
              "      display: none;\n",
              "      fill: #1967D2;\n",
              "      height: 32px;\n",
              "      padding: 0 0 0 0;\n",
              "      width: 32px;\n",
              "    }\n",
              "\n",
              "    .colab-df-convert:hover {\n",
              "      background-color: #E2EBFA;\n",
              "      box-shadow: 0px 1px 2px rgba(60, 64, 67, 0.3), 0px 1px 3px 1px rgba(60, 64, 67, 0.15);\n",
              "      fill: #174EA6;\n",
              "    }\n",
              "\n",
              "    [theme=dark] .colab-df-convert {\n",
              "      background-color: #3B4455;\n",
              "      fill: #D2E3FC;\n",
              "    }\n",
              "\n",
              "    [theme=dark] .colab-df-convert:hover {\n",
              "      background-color: #434B5C;\n",
              "      box-shadow: 0px 1px 3px 1px rgba(0, 0, 0, 0.15);\n",
              "      filter: drop-shadow(0px 1px 2px rgba(0, 0, 0, 0.3));\n",
              "      fill: #FFFFFF;\n",
              "    }\n",
              "  </style>\n",
              "\n",
              "      <script>\n",
              "        const buttonEl =\n",
              "          document.querySelector('#df-9a760811-2eb6-48a9-8925-5a0b36b6c548 button.colab-df-convert');\n",
              "        buttonEl.style.display =\n",
              "          google.colab.kernel.accessAllowed ? 'block' : 'none';\n",
              "\n",
              "        async function convertToInteractive(key) {\n",
              "          const element = document.querySelector('#df-9a760811-2eb6-48a9-8925-5a0b36b6c548');\n",
              "          const dataTable =\n",
              "            await google.colab.kernel.invokeFunction('convertToInteractive',\n",
              "                                                     [key], {});\n",
              "          if (!dataTable) return;\n",
              "\n",
              "          const docLinkHtml = 'Like what you see? Visit the ' +\n",
              "            '<a target=\"_blank\" href=https://colab.research.google.com/notebooks/data_table.ipynb>data table notebook</a>'\n",
              "            + ' to learn more about interactive tables.';\n",
              "          element.innerHTML = '';\n",
              "          dataTable['output_type'] = 'display_data';\n",
              "          await google.colab.output.renderOutput(dataTable, element);\n",
              "          const docLink = document.createElement('div');\n",
              "          docLink.innerHTML = docLinkHtml;\n",
              "          element.appendChild(docLink);\n",
              "        }\n",
              "      </script>\n",
              "    </div>\n",
              "  </div>\n",
              "  "
            ]
          },
          "metadata": {},
          "execution_count": 20
        }
      ]
    },
    {
      "cell_type": "code",
      "source": [
        "# Convert pandas into koalas dataframe\n",
        "date_kdf_2 = ks.from_pandas(date_pdf)\n",
        "\n",
        "print(type(date_kdf_2))\n",
        "date_kdf_2"
      ],
      "metadata": {
        "colab": {
          "base_uri": "https://localhost:8080/",
          "height": 255
        },
        "id": "dr9iTDZ6X2Jj",
        "outputId": "26db0d8d-c2be-409a-9e5a-fa3239595ba9"
      },
      "execution_count": null,
      "outputs": [
        {
          "output_type": "stream",
          "name": "stdout",
          "text": [
            "<class 'databricks.koalas.frame.DataFrame'>\n"
          ]
        },
        {
          "output_type": "execute_result",
          "data": {
            "text/plain": [
              "                   A         B         C         D\n",
              "2022-09-01 -1.339130  0.043300 -0.269675 -3.305451\n",
              "2022-09-02 -0.198881 -1.406262  0.085938 -0.038813\n",
              "2022-09-03 -1.648130 -0.031433 -2.100018 -0.754290\n",
              "2022-09-04  0.424384  1.491198 -0.636984  0.972359\n",
              "2022-09-05 -0.367869 -3.227347 -0.398589 -1.016282\n",
              "2022-09-06  0.504600  0.719060  0.291448  1.397297"
            ],
            "text/html": [
              "<div>\n",
              "<style scoped>\n",
              "    .dataframe tbody tr th:only-of-type {\n",
              "        vertical-align: middle;\n",
              "    }\n",
              "\n",
              "    .dataframe tbody tr th {\n",
              "        vertical-align: top;\n",
              "    }\n",
              "\n",
              "    .dataframe thead th {\n",
              "        text-align: right;\n",
              "    }\n",
              "</style>\n",
              "<table border=\"1\" class=\"dataframe\">\n",
              "  <thead>\n",
              "    <tr style=\"text-align: right;\">\n",
              "      <th></th>\n",
              "      <th>A</th>\n",
              "      <th>B</th>\n",
              "      <th>C</th>\n",
              "      <th>D</th>\n",
              "    </tr>\n",
              "  </thead>\n",
              "  <tbody>\n",
              "    <tr>\n",
              "      <th>2022-09-01</th>\n",
              "      <td>-1.339130</td>\n",
              "      <td>0.043300</td>\n",
              "      <td>-0.269675</td>\n",
              "      <td>-3.305451</td>\n",
              "    </tr>\n",
              "    <tr>\n",
              "      <th>2022-09-02</th>\n",
              "      <td>-0.198881</td>\n",
              "      <td>-1.406262</td>\n",
              "      <td>0.085938</td>\n",
              "      <td>-0.038813</td>\n",
              "    </tr>\n",
              "    <tr>\n",
              "      <th>2022-09-03</th>\n",
              "      <td>-1.648130</td>\n",
              "      <td>-0.031433</td>\n",
              "      <td>-2.100018</td>\n",
              "      <td>-0.754290</td>\n",
              "    </tr>\n",
              "    <tr>\n",
              "      <th>2022-09-04</th>\n",
              "      <td>0.424384</td>\n",
              "      <td>1.491198</td>\n",
              "      <td>-0.636984</td>\n",
              "      <td>0.972359</td>\n",
              "    </tr>\n",
              "    <tr>\n",
              "      <th>2022-09-05</th>\n",
              "      <td>-0.367869</td>\n",
              "      <td>-3.227347</td>\n",
              "      <td>-0.398589</td>\n",
              "      <td>-1.016282</td>\n",
              "    </tr>\n",
              "    <tr>\n",
              "      <th>2022-09-06</th>\n",
              "      <td>0.504600</td>\n",
              "      <td>0.719060</td>\n",
              "      <td>0.291448</td>\n",
              "      <td>1.397297</td>\n",
              "    </tr>\n",
              "  </tbody>\n",
              "</table>\n",
              "</div>"
            ]
          },
          "metadata": {},
          "execution_count": 21
        }
      ]
    },
    {
      "cell_type": "code",
      "source": [
        "# Convert pandas into spark dataframe\n",
        "date_sdf = spark.createDataFrame(date_pdf)\n",
        "\n",
        "print(type(date_sdf))\n",
        "date_sdf.show()"
      ],
      "metadata": {
        "colab": {
          "base_uri": "https://localhost:8080/"
        },
        "id": "J1RcKBD1TxG8",
        "outputId": "9c17943b-acd8-4a6f-bab7-c896a5d83405"
      },
      "execution_count": null,
      "outputs": [
        {
          "output_type": "stream",
          "name": "stdout",
          "text": [
            "<class 'pyspark.sql.dataframe.DataFrame'>\n",
            "+--------------------+--------------------+--------------------+--------------------+\n",
            "|                   A|                   B|                   C|                   D|\n",
            "+--------------------+--------------------+--------------------+--------------------+\n",
            "| -1.3391297598221532|0.043300327809224326|-0.26967509451758576|  -3.305451197161823|\n",
            "|-0.19888106791078164| -1.4062619852884557| 0.08593829011916826|-0.03881285979719...|\n",
            "|  -1.648129906869307|-0.03143283418479...| -2.1000184010855225| -0.7542900070637871|\n",
            "|  0.4243837206371645|     1.4911984494675| -0.6369844550027898|  0.9723585077000494|\n",
            "| -0.3678686639042944| -3.2273469011703173| -0.3985890324586144| -1.0162819579816884|\n",
            "|    0.50460004015172|  0.7190596266199326| 0.29144819896445917|  1.3972974287306017|\n",
            "+--------------------+--------------------+--------------------+--------------------+\n",
            "\n"
          ]
        }
      ]
    },
    {
      "cell_type": "code",
      "source": [
        "# Create a koalas dataframe from pyspark dataframe\n",
        "print(type(date_sdf.to_koalas()))\n",
        "date_sdf.to_koalas()"
      ],
      "metadata": {
        "colab": {
          "base_uri": "https://localhost:8080/",
          "height": 255
        },
        "id": "dcNMlppFSZaQ",
        "outputId": "f21db101-d754-433d-b60f-3d3274c64ba3"
      },
      "execution_count": null,
      "outputs": [
        {
          "output_type": "stream",
          "name": "stdout",
          "text": [
            "<class 'databricks.koalas.frame.DataFrame'>\n"
          ]
        },
        {
          "output_type": "execute_result",
          "data": {
            "text/plain": [
              "          A         B         C         D\n",
              "0 -1.339130  0.043300 -0.269675 -3.305451\n",
              "1 -0.198881 -1.406262  0.085938 -0.038813\n",
              "2 -1.648130 -0.031433 -2.100018 -0.754290\n",
              "3  0.424384  1.491198 -0.636984  0.972359\n",
              "4 -0.367869 -3.227347 -0.398589 -1.016282\n",
              "5  0.504600  0.719060  0.291448  1.397297"
            ],
            "text/html": [
              "<div>\n",
              "<style scoped>\n",
              "    .dataframe tbody tr th:only-of-type {\n",
              "        vertical-align: middle;\n",
              "    }\n",
              "\n",
              "    .dataframe tbody tr th {\n",
              "        vertical-align: top;\n",
              "    }\n",
              "\n",
              "    .dataframe thead th {\n",
              "        text-align: right;\n",
              "    }\n",
              "</style>\n",
              "<table border=\"1\" class=\"dataframe\">\n",
              "  <thead>\n",
              "    <tr style=\"text-align: right;\">\n",
              "      <th></th>\n",
              "      <th>A</th>\n",
              "      <th>B</th>\n",
              "      <th>C</th>\n",
              "      <th>D</th>\n",
              "    </tr>\n",
              "  </thead>\n",
              "  <tbody>\n",
              "    <tr>\n",
              "      <th>0</th>\n",
              "      <td>-1.339130</td>\n",
              "      <td>0.043300</td>\n",
              "      <td>-0.269675</td>\n",
              "      <td>-3.305451</td>\n",
              "    </tr>\n",
              "    <tr>\n",
              "      <th>1</th>\n",
              "      <td>-0.198881</td>\n",
              "      <td>-1.406262</td>\n",
              "      <td>0.085938</td>\n",
              "      <td>-0.038813</td>\n",
              "    </tr>\n",
              "    <tr>\n",
              "      <th>2</th>\n",
              "      <td>-1.648130</td>\n",
              "      <td>-0.031433</td>\n",
              "      <td>-2.100018</td>\n",
              "      <td>-0.754290</td>\n",
              "    </tr>\n",
              "    <tr>\n",
              "      <th>3</th>\n",
              "      <td>0.424384</td>\n",
              "      <td>1.491198</td>\n",
              "      <td>-0.636984</td>\n",
              "      <td>0.972359</td>\n",
              "    </tr>\n",
              "    <tr>\n",
              "      <th>4</th>\n",
              "      <td>-0.367869</td>\n",
              "      <td>-3.227347</td>\n",
              "      <td>-0.398589</td>\n",
              "      <td>-1.016282</td>\n",
              "    </tr>\n",
              "    <tr>\n",
              "      <th>5</th>\n",
              "      <td>0.504600</td>\n",
              "      <td>0.719060</td>\n",
              "      <td>0.291448</td>\n",
              "      <td>1.397297</td>\n",
              "    </tr>\n",
              "  </tbody>\n",
              "</table>\n",
              "</div>"
            ]
          },
          "metadata": {},
          "execution_count": 23
        }
      ]
    },
    {
      "cell_type": "code",
      "source": [
        "# Create a koalas dataframe from pyspark dataframe (same as above but other method)\n",
        "kdf_null = ks.DataFrame(df_null)\n",
        "\n",
        "print(type(kdf_null))\n",
        "kdf_null"
      ],
      "metadata": {
        "colab": {
          "base_uri": "https://localhost:8080/",
          "height": 411
        },
        "id": "45Plq31MN-zE",
        "outputId": "ea533b0a-266c-4414-c44d-86ab35c447de"
      },
      "execution_count": null,
      "outputs": [
        {
          "output_type": "stream",
          "name": "stdout",
          "text": [
            "<class 'databricks.koalas.frame.DataFrame'>\n"
          ]
        },
        {
          "output_type": "execute_result",
          "data": {
            "text/plain": [
              "      id  name   dept  salary id_dept       dept_name\n",
              "0    1.0   AAA  dept1  1000.0   dept1  Department - 1\n",
              "1    2.0   BBB  dept1  1100.0   dept1  Department - 1\n",
              "2    3.0   CCC  dept1  3000.0   dept1  Department - 1\n",
              "3    4.0   DDD  dept1  1500.0   dept1  Department - 1\n",
              "4    5.0   EEE  dept2  8000.0   dept2  Department - 2\n",
              "5    6.0   FFF  dept2  7200.0   dept2  Department - 2\n",
              "6    7.0   GGG  dept3  7100.0   dept3  Department - 3\n",
              "7    8.0   HHH  dept3  3700.0   dept3  Department - 3\n",
              "8    9.0   III  dept3  4500.0   dept3  Department - 3\n",
              "9    NaN  None   None     NaN   dept4  Department - 4\n",
              "10  10.0   JJJ  dept5  3400.0    None            None"
            ],
            "text/html": [
              "<div>\n",
              "<style scoped>\n",
              "    .dataframe tbody tr th:only-of-type {\n",
              "        vertical-align: middle;\n",
              "    }\n",
              "\n",
              "    .dataframe tbody tr th {\n",
              "        vertical-align: top;\n",
              "    }\n",
              "\n",
              "    .dataframe thead th {\n",
              "        text-align: right;\n",
              "    }\n",
              "</style>\n",
              "<table border=\"1\" class=\"dataframe\">\n",
              "  <thead>\n",
              "    <tr style=\"text-align: right;\">\n",
              "      <th></th>\n",
              "      <th>id</th>\n",
              "      <th>name</th>\n",
              "      <th>dept</th>\n",
              "      <th>salary</th>\n",
              "      <th>id_dept</th>\n",
              "      <th>dept_name</th>\n",
              "    </tr>\n",
              "  </thead>\n",
              "  <tbody>\n",
              "    <tr>\n",
              "      <th>0</th>\n",
              "      <td>1.0</td>\n",
              "      <td>AAA</td>\n",
              "      <td>dept1</td>\n",
              "      <td>1000.0</td>\n",
              "      <td>dept1</td>\n",
              "      <td>Department - 1</td>\n",
              "    </tr>\n",
              "    <tr>\n",
              "      <th>1</th>\n",
              "      <td>2.0</td>\n",
              "      <td>BBB</td>\n",
              "      <td>dept1</td>\n",
              "      <td>1100.0</td>\n",
              "      <td>dept1</td>\n",
              "      <td>Department - 1</td>\n",
              "    </tr>\n",
              "    <tr>\n",
              "      <th>2</th>\n",
              "      <td>3.0</td>\n",
              "      <td>CCC</td>\n",
              "      <td>dept1</td>\n",
              "      <td>3000.0</td>\n",
              "      <td>dept1</td>\n",
              "      <td>Department - 1</td>\n",
              "    </tr>\n",
              "    <tr>\n",
              "      <th>3</th>\n",
              "      <td>4.0</td>\n",
              "      <td>DDD</td>\n",
              "      <td>dept1</td>\n",
              "      <td>1500.0</td>\n",
              "      <td>dept1</td>\n",
              "      <td>Department - 1</td>\n",
              "    </tr>\n",
              "    <tr>\n",
              "      <th>4</th>\n",
              "      <td>5.0</td>\n",
              "      <td>EEE</td>\n",
              "      <td>dept2</td>\n",
              "      <td>8000.0</td>\n",
              "      <td>dept2</td>\n",
              "      <td>Department - 2</td>\n",
              "    </tr>\n",
              "    <tr>\n",
              "      <th>5</th>\n",
              "      <td>6.0</td>\n",
              "      <td>FFF</td>\n",
              "      <td>dept2</td>\n",
              "      <td>7200.0</td>\n",
              "      <td>dept2</td>\n",
              "      <td>Department - 2</td>\n",
              "    </tr>\n",
              "    <tr>\n",
              "      <th>6</th>\n",
              "      <td>7.0</td>\n",
              "      <td>GGG</td>\n",
              "      <td>dept3</td>\n",
              "      <td>7100.0</td>\n",
              "      <td>dept3</td>\n",
              "      <td>Department - 3</td>\n",
              "    </tr>\n",
              "    <tr>\n",
              "      <th>7</th>\n",
              "      <td>8.0</td>\n",
              "      <td>HHH</td>\n",
              "      <td>dept3</td>\n",
              "      <td>3700.0</td>\n",
              "      <td>dept3</td>\n",
              "      <td>Department - 3</td>\n",
              "    </tr>\n",
              "    <tr>\n",
              "      <th>8</th>\n",
              "      <td>9.0</td>\n",
              "      <td>III</td>\n",
              "      <td>dept3</td>\n",
              "      <td>4500.0</td>\n",
              "      <td>dept3</td>\n",
              "      <td>Department - 3</td>\n",
              "    </tr>\n",
              "    <tr>\n",
              "      <th>9</th>\n",
              "      <td>NaN</td>\n",
              "      <td>None</td>\n",
              "      <td>None</td>\n",
              "      <td>NaN</td>\n",
              "      <td>dept4</td>\n",
              "      <td>Department - 4</td>\n",
              "    </tr>\n",
              "    <tr>\n",
              "      <th>10</th>\n",
              "      <td>10.0</td>\n",
              "      <td>JJJ</td>\n",
              "      <td>dept5</td>\n",
              "      <td>3400.0</td>\n",
              "      <td>None</td>\n",
              "      <td>None</td>\n",
              "    </tr>\n",
              "  </tbody>\n",
              "</table>\n",
              "</div>"
            ]
          },
          "metadata": {},
          "execution_count": 24
        }
      ]
    },
    {
      "cell_type": "code",
      "source": [
        "# Get index from df\n",
        "kdf_null.index"
      ],
      "metadata": {
        "colab": {
          "base_uri": "https://localhost:8080/"
        },
        "id": "2bBkHhnvN-t-",
        "outputId": "ca924478-3042-4c59-831e-53cb1c57392a"
      },
      "execution_count": null,
      "outputs": [
        {
          "output_type": "execute_result",
          "data": {
            "text/plain": [
              "Int64Index([0, 1, 2, 3, 4, 5, 6, 7, 8, 9, 10], dtype='int64')"
            ]
          },
          "metadata": {},
          "execution_count": 25
        }
      ]
    },
    {
      "cell_type": "code",
      "source": [
        "# Get columns from df\n",
        "kdf_null.columns"
      ],
      "metadata": {
        "colab": {
          "base_uri": "https://localhost:8080/"
        },
        "id": "j4G4T2v8N-rG",
        "outputId": "45f7ddb7-6992-4c13-baaa-51d093468535"
      },
      "execution_count": null,
      "outputs": [
        {
          "output_type": "execute_result",
          "data": {
            "text/plain": [
              "Index(['id', 'name', 'dept', 'salary', 'id_dept', 'dept_name'], dtype='object')"
            ]
          },
          "metadata": {},
          "execution_count": 26
        }
      ]
    },
    {
      "cell_type": "code",
      "source": [
        "# Descriptive statistics from df\n",
        "kdf_null.describe()"
      ],
      "metadata": {
        "colab": {
          "base_uri": "https://localhost:8080/",
          "height": 300
        },
        "id": "BycFgtIiN-oI",
        "outputId": "91f08f3b-4458-42ff-f00c-d241880e5a79"
      },
      "execution_count": null,
      "outputs": [
        {
          "output_type": "execute_result",
          "data": {
            "text/plain": [
              "             id       salary\n",
              "count  10.00000    10.000000\n",
              "mean    5.50000  4050.000000\n",
              "std     3.02765  2607.361374\n",
              "min     1.00000  1000.000000\n",
              "25%     3.00000  1500.000000\n",
              "50%     5.00000  3400.000000\n",
              "75%     8.00000  7100.000000\n",
              "max    10.00000  8000.000000"
            ],
            "text/html": [
              "<div>\n",
              "<style scoped>\n",
              "    .dataframe tbody tr th:only-of-type {\n",
              "        vertical-align: middle;\n",
              "    }\n",
              "\n",
              "    .dataframe tbody tr th {\n",
              "        vertical-align: top;\n",
              "    }\n",
              "\n",
              "    .dataframe thead th {\n",
              "        text-align: right;\n",
              "    }\n",
              "</style>\n",
              "<table border=\"1\" class=\"dataframe\">\n",
              "  <thead>\n",
              "    <tr style=\"text-align: right;\">\n",
              "      <th></th>\n",
              "      <th>id</th>\n",
              "      <th>salary</th>\n",
              "    </tr>\n",
              "  </thead>\n",
              "  <tbody>\n",
              "    <tr>\n",
              "      <th>count</th>\n",
              "      <td>10.00000</td>\n",
              "      <td>10.000000</td>\n",
              "    </tr>\n",
              "    <tr>\n",
              "      <th>mean</th>\n",
              "      <td>5.50000</td>\n",
              "      <td>4050.000000</td>\n",
              "    </tr>\n",
              "    <tr>\n",
              "      <th>std</th>\n",
              "      <td>3.02765</td>\n",
              "      <td>2607.361374</td>\n",
              "    </tr>\n",
              "    <tr>\n",
              "      <th>min</th>\n",
              "      <td>1.00000</td>\n",
              "      <td>1000.000000</td>\n",
              "    </tr>\n",
              "    <tr>\n",
              "      <th>25%</th>\n",
              "      <td>3.00000</td>\n",
              "      <td>1500.000000</td>\n",
              "    </tr>\n",
              "    <tr>\n",
              "      <th>50%</th>\n",
              "      <td>5.00000</td>\n",
              "      <td>3400.000000</td>\n",
              "    </tr>\n",
              "    <tr>\n",
              "      <th>75%</th>\n",
              "      <td>8.00000</td>\n",
              "      <td>7100.000000</td>\n",
              "    </tr>\n",
              "    <tr>\n",
              "      <th>max</th>\n",
              "      <td>10.00000</td>\n",
              "      <td>8000.000000</td>\n",
              "    </tr>\n",
              "  </tbody>\n",
              "</table>\n",
              "</div>"
            ]
          },
          "metadata": {},
          "execution_count": 27
        }
      ]
    },
    {
      "cell_type": "code",
      "source": [
        "# Select columns and then transpose df\n",
        "kdf_null[['id', 'salary']].T"
      ],
      "metadata": {
        "colab": {
          "base_uri": "https://localhost:8080/",
          "height": 112
        },
        "id": "nmSPV50XU94t",
        "outputId": "886a1dc3-4c9a-4b9d-f7ec-7c954b8ab085"
      },
      "execution_count": null,
      "outputs": [
        {
          "output_type": "execute_result",
          "data": {
            "text/plain": [
              "            0       1       2       3       4       5       6       7       8   9       10\n",
              "id         1.0     2.0     3.0     4.0     5.0     6.0     7.0     8.0     9.0 NaN    10.0\n",
              "salary  1000.0  1100.0  3000.0  1500.0  8000.0  7200.0  7100.0  3700.0  4500.0 NaN  3400.0"
            ],
            "text/html": [
              "<div>\n",
              "<style scoped>\n",
              "    .dataframe tbody tr th:only-of-type {\n",
              "        vertical-align: middle;\n",
              "    }\n",
              "\n",
              "    .dataframe tbody tr th {\n",
              "        vertical-align: top;\n",
              "    }\n",
              "\n",
              "    .dataframe thead th {\n",
              "        text-align: right;\n",
              "    }\n",
              "</style>\n",
              "<table border=\"1\" class=\"dataframe\">\n",
              "  <thead>\n",
              "    <tr style=\"text-align: right;\">\n",
              "      <th></th>\n",
              "      <th>0</th>\n",
              "      <th>1</th>\n",
              "      <th>2</th>\n",
              "      <th>3</th>\n",
              "      <th>4</th>\n",
              "      <th>5</th>\n",
              "      <th>6</th>\n",
              "      <th>7</th>\n",
              "      <th>8</th>\n",
              "      <th>9</th>\n",
              "      <th>10</th>\n",
              "    </tr>\n",
              "  </thead>\n",
              "  <tbody>\n",
              "    <tr>\n",
              "      <th>id</th>\n",
              "      <td>1.0</td>\n",
              "      <td>2.0</td>\n",
              "      <td>3.0</td>\n",
              "      <td>4.0</td>\n",
              "      <td>5.0</td>\n",
              "      <td>6.0</td>\n",
              "      <td>7.0</td>\n",
              "      <td>8.0</td>\n",
              "      <td>9.0</td>\n",
              "      <td>NaN</td>\n",
              "      <td>10.0</td>\n",
              "    </tr>\n",
              "    <tr>\n",
              "      <th>salary</th>\n",
              "      <td>1000.0</td>\n",
              "      <td>1100.0</td>\n",
              "      <td>3000.0</td>\n",
              "      <td>1500.0</td>\n",
              "      <td>8000.0</td>\n",
              "      <td>7200.0</td>\n",
              "      <td>7100.0</td>\n",
              "      <td>3700.0</td>\n",
              "      <td>4500.0</td>\n",
              "      <td>NaN</td>\n",
              "      <td>3400.0</td>\n",
              "    </tr>\n",
              "  </tbody>\n",
              "</table>\n",
              "</div>"
            ]
          },
          "metadata": {},
          "execution_count": 28
        }
      ]
    },
    {
      "cell_type": "code",
      "source": [
        "# Dataframe into numpy object\n",
        "kdf_null.to_numpy()"
      ],
      "metadata": {
        "colab": {
          "base_uri": "https://localhost:8080/"
        },
        "id": "H9KC25lHWbDr",
        "outputId": "7434e7d2-aa4e-4bed-f1ad-106ccbab97c5"
      },
      "execution_count": null,
      "outputs": [
        {
          "output_type": "execute_result",
          "data": {
            "text/plain": [
              "array([[1.0, 'AAA', 'dept1', 1000.0, 'dept1', 'Department - 1'],\n",
              "       [2.0, 'BBB', 'dept1', 1100.0, 'dept1', 'Department - 1'],\n",
              "       [3.0, 'CCC', 'dept1', 3000.0, 'dept1', 'Department - 1'],\n",
              "       [4.0, 'DDD', 'dept1', 1500.0, 'dept1', 'Department - 1'],\n",
              "       [5.0, 'EEE', 'dept2', 8000.0, 'dept2', 'Department - 2'],\n",
              "       [6.0, 'FFF', 'dept2', 7200.0, 'dept2', 'Department - 2'],\n",
              "       [7.0, 'GGG', 'dept3', 7100.0, 'dept3', 'Department - 3'],\n",
              "       [8.0, 'HHH', 'dept3', 3700.0, 'dept3', 'Department - 3'],\n",
              "       [9.0, 'III', 'dept3', 4500.0, 'dept3', 'Department - 3'],\n",
              "       [nan, None, None, nan, 'dept4', 'Department - 4'],\n",
              "       [10.0, 'JJJ', 'dept5', 3400.0, None, None]], dtype=object)"
            ]
          },
          "metadata": {},
          "execution_count": 29
        }
      ]
    },
    {
      "cell_type": "code",
      "source": [
        "# Sort index\n",
        "kdf_null.sort_index(ascending=False)"
      ],
      "metadata": {
        "colab": {
          "base_uri": "https://localhost:8080/",
          "height": 394
        },
        "id": "AD_vPukCU91R",
        "outputId": "bf1d022e-344c-4ff9-c10d-f0d155c52900"
      },
      "execution_count": null,
      "outputs": [
        {
          "output_type": "execute_result",
          "data": {
            "text/plain": [
              "      id  name   dept  salary id_dept       dept_name\n",
              "10  10.0   JJJ  dept5  3400.0    None            None\n",
              "9    NaN  None   None     NaN   dept4  Department - 4\n",
              "8    9.0   III  dept3  4500.0   dept3  Department - 3\n",
              "7    8.0   HHH  dept3  3700.0   dept3  Department - 3\n",
              "6    7.0   GGG  dept3  7100.0   dept3  Department - 3\n",
              "5    6.0   FFF  dept2  7200.0   dept2  Department - 2\n",
              "4    5.0   EEE  dept2  8000.0   dept2  Department - 2\n",
              "3    4.0   DDD  dept1  1500.0   dept1  Department - 1\n",
              "2    3.0   CCC  dept1  3000.0   dept1  Department - 1\n",
              "1    2.0   BBB  dept1  1100.0   dept1  Department - 1\n",
              "0    1.0   AAA  dept1  1000.0   dept1  Department - 1"
            ],
            "text/html": [
              "<div>\n",
              "<style scoped>\n",
              "    .dataframe tbody tr th:only-of-type {\n",
              "        vertical-align: middle;\n",
              "    }\n",
              "\n",
              "    .dataframe tbody tr th {\n",
              "        vertical-align: top;\n",
              "    }\n",
              "\n",
              "    .dataframe thead th {\n",
              "        text-align: right;\n",
              "    }\n",
              "</style>\n",
              "<table border=\"1\" class=\"dataframe\">\n",
              "  <thead>\n",
              "    <tr style=\"text-align: right;\">\n",
              "      <th></th>\n",
              "      <th>id</th>\n",
              "      <th>name</th>\n",
              "      <th>dept</th>\n",
              "      <th>salary</th>\n",
              "      <th>id_dept</th>\n",
              "      <th>dept_name</th>\n",
              "    </tr>\n",
              "  </thead>\n",
              "  <tbody>\n",
              "    <tr>\n",
              "      <th>10</th>\n",
              "      <td>10.0</td>\n",
              "      <td>JJJ</td>\n",
              "      <td>dept5</td>\n",
              "      <td>3400.0</td>\n",
              "      <td>None</td>\n",
              "      <td>None</td>\n",
              "    </tr>\n",
              "    <tr>\n",
              "      <th>9</th>\n",
              "      <td>NaN</td>\n",
              "      <td>None</td>\n",
              "      <td>None</td>\n",
              "      <td>NaN</td>\n",
              "      <td>dept4</td>\n",
              "      <td>Department - 4</td>\n",
              "    </tr>\n",
              "    <tr>\n",
              "      <th>8</th>\n",
              "      <td>9.0</td>\n",
              "      <td>III</td>\n",
              "      <td>dept3</td>\n",
              "      <td>4500.0</td>\n",
              "      <td>dept3</td>\n",
              "      <td>Department - 3</td>\n",
              "    </tr>\n",
              "    <tr>\n",
              "      <th>7</th>\n",
              "      <td>8.0</td>\n",
              "      <td>HHH</td>\n",
              "      <td>dept3</td>\n",
              "      <td>3700.0</td>\n",
              "      <td>dept3</td>\n",
              "      <td>Department - 3</td>\n",
              "    </tr>\n",
              "    <tr>\n",
              "      <th>6</th>\n",
              "      <td>7.0</td>\n",
              "      <td>GGG</td>\n",
              "      <td>dept3</td>\n",
              "      <td>7100.0</td>\n",
              "      <td>dept3</td>\n",
              "      <td>Department - 3</td>\n",
              "    </tr>\n",
              "    <tr>\n",
              "      <th>5</th>\n",
              "      <td>6.0</td>\n",
              "      <td>FFF</td>\n",
              "      <td>dept2</td>\n",
              "      <td>7200.0</td>\n",
              "      <td>dept2</td>\n",
              "      <td>Department - 2</td>\n",
              "    </tr>\n",
              "    <tr>\n",
              "      <th>4</th>\n",
              "      <td>5.0</td>\n",
              "      <td>EEE</td>\n",
              "      <td>dept2</td>\n",
              "      <td>8000.0</td>\n",
              "      <td>dept2</td>\n",
              "      <td>Department - 2</td>\n",
              "    </tr>\n",
              "    <tr>\n",
              "      <th>3</th>\n",
              "      <td>4.0</td>\n",
              "      <td>DDD</td>\n",
              "      <td>dept1</td>\n",
              "      <td>1500.0</td>\n",
              "      <td>dept1</td>\n",
              "      <td>Department - 1</td>\n",
              "    </tr>\n",
              "    <tr>\n",
              "      <th>2</th>\n",
              "      <td>3.0</td>\n",
              "      <td>CCC</td>\n",
              "      <td>dept1</td>\n",
              "      <td>3000.0</td>\n",
              "      <td>dept1</td>\n",
              "      <td>Department - 1</td>\n",
              "    </tr>\n",
              "    <tr>\n",
              "      <th>1</th>\n",
              "      <td>2.0</td>\n",
              "      <td>BBB</td>\n",
              "      <td>dept1</td>\n",
              "      <td>1100.0</td>\n",
              "      <td>dept1</td>\n",
              "      <td>Department - 1</td>\n",
              "    </tr>\n",
              "    <tr>\n",
              "      <th>0</th>\n",
              "      <td>1.0</td>\n",
              "      <td>AAA</td>\n",
              "      <td>dept1</td>\n",
              "      <td>1000.0</td>\n",
              "      <td>dept1</td>\n",
              "      <td>Department - 1</td>\n",
              "    </tr>\n",
              "  </tbody>\n",
              "</table>\n",
              "</div>"
            ]
          },
          "metadata": {},
          "execution_count": 30
        }
      ]
    },
    {
      "cell_type": "code",
      "source": [
        "# Sort df by column\n",
        "kdf_null.sort_values(by='salary')"
      ],
      "metadata": {
        "colab": {
          "base_uri": "https://localhost:8080/",
          "height": 394
        },
        "id": "RPVm8JM9U9x1",
        "outputId": "9ec0f7fb-d893-4b66-f7af-7fc144aa4e06"
      },
      "execution_count": null,
      "outputs": [
        {
          "output_type": "execute_result",
          "data": {
            "text/plain": [
              "      id  name   dept  salary id_dept       dept_name\n",
              "0    1.0   AAA  dept1  1000.0   dept1  Department - 1\n",
              "1    2.0   BBB  dept1  1100.0   dept1  Department - 1\n",
              "3    4.0   DDD  dept1  1500.0   dept1  Department - 1\n",
              "2    3.0   CCC  dept1  3000.0   dept1  Department - 1\n",
              "10  10.0   JJJ  dept5  3400.0    None            None\n",
              "7    8.0   HHH  dept3  3700.0   dept3  Department - 3\n",
              "8    9.0   III  dept3  4500.0   dept3  Department - 3\n",
              "6    7.0   GGG  dept3  7100.0   dept3  Department - 3\n",
              "5    6.0   FFF  dept2  7200.0   dept2  Department - 2\n",
              "4    5.0   EEE  dept2  8000.0   dept2  Department - 2\n",
              "9    NaN  None   None     NaN   dept4  Department - 4"
            ],
            "text/html": [
              "<div>\n",
              "<style scoped>\n",
              "    .dataframe tbody tr th:only-of-type {\n",
              "        vertical-align: middle;\n",
              "    }\n",
              "\n",
              "    .dataframe tbody tr th {\n",
              "        vertical-align: top;\n",
              "    }\n",
              "\n",
              "    .dataframe thead th {\n",
              "        text-align: right;\n",
              "    }\n",
              "</style>\n",
              "<table border=\"1\" class=\"dataframe\">\n",
              "  <thead>\n",
              "    <tr style=\"text-align: right;\">\n",
              "      <th></th>\n",
              "      <th>id</th>\n",
              "      <th>name</th>\n",
              "      <th>dept</th>\n",
              "      <th>salary</th>\n",
              "      <th>id_dept</th>\n",
              "      <th>dept_name</th>\n",
              "    </tr>\n",
              "  </thead>\n",
              "  <tbody>\n",
              "    <tr>\n",
              "      <th>0</th>\n",
              "      <td>1.0</td>\n",
              "      <td>AAA</td>\n",
              "      <td>dept1</td>\n",
              "      <td>1000.0</td>\n",
              "      <td>dept1</td>\n",
              "      <td>Department - 1</td>\n",
              "    </tr>\n",
              "    <tr>\n",
              "      <th>1</th>\n",
              "      <td>2.0</td>\n",
              "      <td>BBB</td>\n",
              "      <td>dept1</td>\n",
              "      <td>1100.0</td>\n",
              "      <td>dept1</td>\n",
              "      <td>Department - 1</td>\n",
              "    </tr>\n",
              "    <tr>\n",
              "      <th>3</th>\n",
              "      <td>4.0</td>\n",
              "      <td>DDD</td>\n",
              "      <td>dept1</td>\n",
              "      <td>1500.0</td>\n",
              "      <td>dept1</td>\n",
              "      <td>Department - 1</td>\n",
              "    </tr>\n",
              "    <tr>\n",
              "      <th>2</th>\n",
              "      <td>3.0</td>\n",
              "      <td>CCC</td>\n",
              "      <td>dept1</td>\n",
              "      <td>3000.0</td>\n",
              "      <td>dept1</td>\n",
              "      <td>Department - 1</td>\n",
              "    </tr>\n",
              "    <tr>\n",
              "      <th>10</th>\n",
              "      <td>10.0</td>\n",
              "      <td>JJJ</td>\n",
              "      <td>dept5</td>\n",
              "      <td>3400.0</td>\n",
              "      <td>None</td>\n",
              "      <td>None</td>\n",
              "    </tr>\n",
              "    <tr>\n",
              "      <th>7</th>\n",
              "      <td>8.0</td>\n",
              "      <td>HHH</td>\n",
              "      <td>dept3</td>\n",
              "      <td>3700.0</td>\n",
              "      <td>dept3</td>\n",
              "      <td>Department - 3</td>\n",
              "    </tr>\n",
              "    <tr>\n",
              "      <th>8</th>\n",
              "      <td>9.0</td>\n",
              "      <td>III</td>\n",
              "      <td>dept3</td>\n",
              "      <td>4500.0</td>\n",
              "      <td>dept3</td>\n",
              "      <td>Department - 3</td>\n",
              "    </tr>\n",
              "    <tr>\n",
              "      <th>6</th>\n",
              "      <td>7.0</td>\n",
              "      <td>GGG</td>\n",
              "      <td>dept3</td>\n",
              "      <td>7100.0</td>\n",
              "      <td>dept3</td>\n",
              "      <td>Department - 3</td>\n",
              "    </tr>\n",
              "    <tr>\n",
              "      <th>5</th>\n",
              "      <td>6.0</td>\n",
              "      <td>FFF</td>\n",
              "      <td>dept2</td>\n",
              "      <td>7200.0</td>\n",
              "      <td>dept2</td>\n",
              "      <td>Department - 2</td>\n",
              "    </tr>\n",
              "    <tr>\n",
              "      <th>4</th>\n",
              "      <td>5.0</td>\n",
              "      <td>EEE</td>\n",
              "      <td>dept2</td>\n",
              "      <td>8000.0</td>\n",
              "      <td>dept2</td>\n",
              "      <td>Department - 2</td>\n",
              "    </tr>\n",
              "    <tr>\n",
              "      <th>9</th>\n",
              "      <td>NaN</td>\n",
              "      <td>None</td>\n",
              "      <td>None</td>\n",
              "      <td>NaN</td>\n",
              "      <td>dept4</td>\n",
              "      <td>Department - 4</td>\n",
              "    </tr>\n",
              "  </tbody>\n",
              "</table>\n",
              "</div>"
            ]
          },
          "metadata": {},
          "execution_count": 31
        }
      ]
    },
    {
      "cell_type": "code",
      "source": [
        "# Drop rows that contains na values\n",
        "kdf_null.dropna(how='any')"
      ],
      "metadata": {
        "colab": {
          "base_uri": "https://localhost:8080/",
          "height": 331
        },
        "id": "2Nih2VZiU9vS",
        "outputId": "65f0cff1-0e60-46ce-c041-e0d2c6e12bac"
      },
      "execution_count": null,
      "outputs": [
        {
          "output_type": "execute_result",
          "data": {
            "text/plain": [
              "   id name   dept  salary id_dept       dept_name\n",
              "0   1  AAA  dept1    1000   dept1  Department - 1\n",
              "1   2  BBB  dept1    1100   dept1  Department - 1\n",
              "2   3  CCC  dept1    3000   dept1  Department - 1\n",
              "3   4  DDD  dept1    1500   dept1  Department - 1\n",
              "4   5  EEE  dept2    8000   dept2  Department - 2\n",
              "5   6  FFF  dept2    7200   dept2  Department - 2\n",
              "6   7  GGG  dept3    7100   dept3  Department - 3\n",
              "7   8  HHH  dept3    3700   dept3  Department - 3\n",
              "8   9  III  dept3    4500   dept3  Department - 3"
            ],
            "text/html": [
              "<div>\n",
              "<style scoped>\n",
              "    .dataframe tbody tr th:only-of-type {\n",
              "        vertical-align: middle;\n",
              "    }\n",
              "\n",
              "    .dataframe tbody tr th {\n",
              "        vertical-align: top;\n",
              "    }\n",
              "\n",
              "    .dataframe thead th {\n",
              "        text-align: right;\n",
              "    }\n",
              "</style>\n",
              "<table border=\"1\" class=\"dataframe\">\n",
              "  <thead>\n",
              "    <tr style=\"text-align: right;\">\n",
              "      <th></th>\n",
              "      <th>id</th>\n",
              "      <th>name</th>\n",
              "      <th>dept</th>\n",
              "      <th>salary</th>\n",
              "      <th>id_dept</th>\n",
              "      <th>dept_name</th>\n",
              "    </tr>\n",
              "  </thead>\n",
              "  <tbody>\n",
              "    <tr>\n",
              "      <th>0</th>\n",
              "      <td>1</td>\n",
              "      <td>AAA</td>\n",
              "      <td>dept1</td>\n",
              "      <td>1000</td>\n",
              "      <td>dept1</td>\n",
              "      <td>Department - 1</td>\n",
              "    </tr>\n",
              "    <tr>\n",
              "      <th>1</th>\n",
              "      <td>2</td>\n",
              "      <td>BBB</td>\n",
              "      <td>dept1</td>\n",
              "      <td>1100</td>\n",
              "      <td>dept1</td>\n",
              "      <td>Department - 1</td>\n",
              "    </tr>\n",
              "    <tr>\n",
              "      <th>2</th>\n",
              "      <td>3</td>\n",
              "      <td>CCC</td>\n",
              "      <td>dept1</td>\n",
              "      <td>3000</td>\n",
              "      <td>dept1</td>\n",
              "      <td>Department - 1</td>\n",
              "    </tr>\n",
              "    <tr>\n",
              "      <th>3</th>\n",
              "      <td>4</td>\n",
              "      <td>DDD</td>\n",
              "      <td>dept1</td>\n",
              "      <td>1500</td>\n",
              "      <td>dept1</td>\n",
              "      <td>Department - 1</td>\n",
              "    </tr>\n",
              "    <tr>\n",
              "      <th>4</th>\n",
              "      <td>5</td>\n",
              "      <td>EEE</td>\n",
              "      <td>dept2</td>\n",
              "      <td>8000</td>\n",
              "      <td>dept2</td>\n",
              "      <td>Department - 2</td>\n",
              "    </tr>\n",
              "    <tr>\n",
              "      <th>5</th>\n",
              "      <td>6</td>\n",
              "      <td>FFF</td>\n",
              "      <td>dept2</td>\n",
              "      <td>7200</td>\n",
              "      <td>dept2</td>\n",
              "      <td>Department - 2</td>\n",
              "    </tr>\n",
              "    <tr>\n",
              "      <th>6</th>\n",
              "      <td>7</td>\n",
              "      <td>GGG</td>\n",
              "      <td>dept3</td>\n",
              "      <td>7100</td>\n",
              "      <td>dept3</td>\n",
              "      <td>Department - 3</td>\n",
              "    </tr>\n",
              "    <tr>\n",
              "      <th>7</th>\n",
              "      <td>8</td>\n",
              "      <td>HHH</td>\n",
              "      <td>dept3</td>\n",
              "      <td>3700</td>\n",
              "      <td>dept3</td>\n",
              "      <td>Department - 3</td>\n",
              "    </tr>\n",
              "    <tr>\n",
              "      <th>8</th>\n",
              "      <td>9</td>\n",
              "      <td>III</td>\n",
              "      <td>dept3</td>\n",
              "      <td>4500</td>\n",
              "      <td>dept3</td>\n",
              "      <td>Department - 3</td>\n",
              "    </tr>\n",
              "  </tbody>\n",
              "</table>\n",
              "</div>"
            ]
          },
          "metadata": {},
          "execution_count": 32
        }
      ]
    },
    {
      "cell_type": "code",
      "source": [
        "# Drop rows that contains na values in a specific column of the df\n",
        "kdf_null.dropna(subset='name')"
      ],
      "metadata": {
        "colab": {
          "base_uri": "https://localhost:8080/",
          "height": 363
        },
        "id": "m9tnJmFrU9s8",
        "outputId": "e201f3f6-e0f5-4d03-d801-635ef968901f"
      },
      "execution_count": null,
      "outputs": [
        {
          "output_type": "execute_result",
          "data": {
            "text/plain": [
              "    id name   dept  salary id_dept       dept_name\n",
              "0    1  AAA  dept1    1000   dept1  Department - 1\n",
              "1    2  BBB  dept1    1100   dept1  Department - 1\n",
              "2    3  CCC  dept1    3000   dept1  Department - 1\n",
              "3    4  DDD  dept1    1500   dept1  Department - 1\n",
              "4    5  EEE  dept2    8000   dept2  Department - 2\n",
              "5    6  FFF  dept2    7200   dept2  Department - 2\n",
              "6    7  GGG  dept3    7100   dept3  Department - 3\n",
              "7    8  HHH  dept3    3700   dept3  Department - 3\n",
              "8    9  III  dept3    4500   dept3  Department - 3\n",
              "10  10  JJJ  dept5    3400    None            None"
            ],
            "text/html": [
              "<div>\n",
              "<style scoped>\n",
              "    .dataframe tbody tr th:only-of-type {\n",
              "        vertical-align: middle;\n",
              "    }\n",
              "\n",
              "    .dataframe tbody tr th {\n",
              "        vertical-align: top;\n",
              "    }\n",
              "\n",
              "    .dataframe thead th {\n",
              "        text-align: right;\n",
              "    }\n",
              "</style>\n",
              "<table border=\"1\" class=\"dataframe\">\n",
              "  <thead>\n",
              "    <tr style=\"text-align: right;\">\n",
              "      <th></th>\n",
              "      <th>id</th>\n",
              "      <th>name</th>\n",
              "      <th>dept</th>\n",
              "      <th>salary</th>\n",
              "      <th>id_dept</th>\n",
              "      <th>dept_name</th>\n",
              "    </tr>\n",
              "  </thead>\n",
              "  <tbody>\n",
              "    <tr>\n",
              "      <th>0</th>\n",
              "      <td>1</td>\n",
              "      <td>AAA</td>\n",
              "      <td>dept1</td>\n",
              "      <td>1000</td>\n",
              "      <td>dept1</td>\n",
              "      <td>Department - 1</td>\n",
              "    </tr>\n",
              "    <tr>\n",
              "      <th>1</th>\n",
              "      <td>2</td>\n",
              "      <td>BBB</td>\n",
              "      <td>dept1</td>\n",
              "      <td>1100</td>\n",
              "      <td>dept1</td>\n",
              "      <td>Department - 1</td>\n",
              "    </tr>\n",
              "    <tr>\n",
              "      <th>2</th>\n",
              "      <td>3</td>\n",
              "      <td>CCC</td>\n",
              "      <td>dept1</td>\n",
              "      <td>3000</td>\n",
              "      <td>dept1</td>\n",
              "      <td>Department - 1</td>\n",
              "    </tr>\n",
              "    <tr>\n",
              "      <th>3</th>\n",
              "      <td>4</td>\n",
              "      <td>DDD</td>\n",
              "      <td>dept1</td>\n",
              "      <td>1500</td>\n",
              "      <td>dept1</td>\n",
              "      <td>Department - 1</td>\n",
              "    </tr>\n",
              "    <tr>\n",
              "      <th>4</th>\n",
              "      <td>5</td>\n",
              "      <td>EEE</td>\n",
              "      <td>dept2</td>\n",
              "      <td>8000</td>\n",
              "      <td>dept2</td>\n",
              "      <td>Department - 2</td>\n",
              "    </tr>\n",
              "    <tr>\n",
              "      <th>5</th>\n",
              "      <td>6</td>\n",
              "      <td>FFF</td>\n",
              "      <td>dept2</td>\n",
              "      <td>7200</td>\n",
              "      <td>dept2</td>\n",
              "      <td>Department - 2</td>\n",
              "    </tr>\n",
              "    <tr>\n",
              "      <th>6</th>\n",
              "      <td>7</td>\n",
              "      <td>GGG</td>\n",
              "      <td>dept3</td>\n",
              "      <td>7100</td>\n",
              "      <td>dept3</td>\n",
              "      <td>Department - 3</td>\n",
              "    </tr>\n",
              "    <tr>\n",
              "      <th>7</th>\n",
              "      <td>8</td>\n",
              "      <td>HHH</td>\n",
              "      <td>dept3</td>\n",
              "      <td>3700</td>\n",
              "      <td>dept3</td>\n",
              "      <td>Department - 3</td>\n",
              "    </tr>\n",
              "    <tr>\n",
              "      <th>8</th>\n",
              "      <td>9</td>\n",
              "      <td>III</td>\n",
              "      <td>dept3</td>\n",
              "      <td>4500</td>\n",
              "      <td>dept3</td>\n",
              "      <td>Department - 3</td>\n",
              "    </tr>\n",
              "    <tr>\n",
              "      <th>10</th>\n",
              "      <td>10</td>\n",
              "      <td>JJJ</td>\n",
              "      <td>dept5</td>\n",
              "      <td>3400</td>\n",
              "      <td>None</td>\n",
              "      <td>None</td>\n",
              "    </tr>\n",
              "  </tbody>\n",
              "</table>\n",
              "</div>"
            ]
          },
          "metadata": {},
          "execution_count": 33
        }
      ]
    },
    {
      "cell_type": "code",
      "source": [
        "# Fill all rows that contains na values\n",
        "kdf_null.fillna(5)"
      ],
      "metadata": {
        "colab": {
          "base_uri": "https://localhost:8080/",
          "height": 394
        },
        "id": "GUWJD29XU9q_",
        "outputId": "f6da3a3b-ebfc-44a3-fa9c-f33ae67e96fe"
      },
      "execution_count": null,
      "outputs": [
        {
          "output_type": "execute_result",
          "data": {
            "text/plain": [
              "    id name   dept  salary id_dept       dept_name\n",
              "0    1  AAA  dept1    1000   dept1  Department - 1\n",
              "1    2  BBB  dept1    1100   dept1  Department - 1\n",
              "2    3  CCC  dept1    3000   dept1  Department - 1\n",
              "3    4  DDD  dept1    1500   dept1  Department - 1\n",
              "4    5  EEE  dept2    8000   dept2  Department - 2\n",
              "5    6  FFF  dept2    7200   dept2  Department - 2\n",
              "6    7  GGG  dept3    7100   dept3  Department - 3\n",
              "7    8  HHH  dept3    3700   dept3  Department - 3\n",
              "8    9  III  dept3    4500   dept3  Department - 3\n",
              "9    5    5      5       5   dept4  Department - 4\n",
              "10  10  JJJ  dept5    3400       5               5"
            ],
            "text/html": [
              "<div>\n",
              "<style scoped>\n",
              "    .dataframe tbody tr th:only-of-type {\n",
              "        vertical-align: middle;\n",
              "    }\n",
              "\n",
              "    .dataframe tbody tr th {\n",
              "        vertical-align: top;\n",
              "    }\n",
              "\n",
              "    .dataframe thead th {\n",
              "        text-align: right;\n",
              "    }\n",
              "</style>\n",
              "<table border=\"1\" class=\"dataframe\">\n",
              "  <thead>\n",
              "    <tr style=\"text-align: right;\">\n",
              "      <th></th>\n",
              "      <th>id</th>\n",
              "      <th>name</th>\n",
              "      <th>dept</th>\n",
              "      <th>salary</th>\n",
              "      <th>id_dept</th>\n",
              "      <th>dept_name</th>\n",
              "    </tr>\n",
              "  </thead>\n",
              "  <tbody>\n",
              "    <tr>\n",
              "      <th>0</th>\n",
              "      <td>1</td>\n",
              "      <td>AAA</td>\n",
              "      <td>dept1</td>\n",
              "      <td>1000</td>\n",
              "      <td>dept1</td>\n",
              "      <td>Department - 1</td>\n",
              "    </tr>\n",
              "    <tr>\n",
              "      <th>1</th>\n",
              "      <td>2</td>\n",
              "      <td>BBB</td>\n",
              "      <td>dept1</td>\n",
              "      <td>1100</td>\n",
              "      <td>dept1</td>\n",
              "      <td>Department - 1</td>\n",
              "    </tr>\n",
              "    <tr>\n",
              "      <th>2</th>\n",
              "      <td>3</td>\n",
              "      <td>CCC</td>\n",
              "      <td>dept1</td>\n",
              "      <td>3000</td>\n",
              "      <td>dept1</td>\n",
              "      <td>Department - 1</td>\n",
              "    </tr>\n",
              "    <tr>\n",
              "      <th>3</th>\n",
              "      <td>4</td>\n",
              "      <td>DDD</td>\n",
              "      <td>dept1</td>\n",
              "      <td>1500</td>\n",
              "      <td>dept1</td>\n",
              "      <td>Department - 1</td>\n",
              "    </tr>\n",
              "    <tr>\n",
              "      <th>4</th>\n",
              "      <td>5</td>\n",
              "      <td>EEE</td>\n",
              "      <td>dept2</td>\n",
              "      <td>8000</td>\n",
              "      <td>dept2</td>\n",
              "      <td>Department - 2</td>\n",
              "    </tr>\n",
              "    <tr>\n",
              "      <th>5</th>\n",
              "      <td>6</td>\n",
              "      <td>FFF</td>\n",
              "      <td>dept2</td>\n",
              "      <td>7200</td>\n",
              "      <td>dept2</td>\n",
              "      <td>Department - 2</td>\n",
              "    </tr>\n",
              "    <tr>\n",
              "      <th>6</th>\n",
              "      <td>7</td>\n",
              "      <td>GGG</td>\n",
              "      <td>dept3</td>\n",
              "      <td>7100</td>\n",
              "      <td>dept3</td>\n",
              "      <td>Department - 3</td>\n",
              "    </tr>\n",
              "    <tr>\n",
              "      <th>7</th>\n",
              "      <td>8</td>\n",
              "      <td>HHH</td>\n",
              "      <td>dept3</td>\n",
              "      <td>3700</td>\n",
              "      <td>dept3</td>\n",
              "      <td>Department - 3</td>\n",
              "    </tr>\n",
              "    <tr>\n",
              "      <th>8</th>\n",
              "      <td>9</td>\n",
              "      <td>III</td>\n",
              "      <td>dept3</td>\n",
              "      <td>4500</td>\n",
              "      <td>dept3</td>\n",
              "      <td>Department - 3</td>\n",
              "    </tr>\n",
              "    <tr>\n",
              "      <th>9</th>\n",
              "      <td>5</td>\n",
              "      <td>5</td>\n",
              "      <td>5</td>\n",
              "      <td>5</td>\n",
              "      <td>dept4</td>\n",
              "      <td>Department - 4</td>\n",
              "    </tr>\n",
              "    <tr>\n",
              "      <th>10</th>\n",
              "      <td>10</td>\n",
              "      <td>JJJ</td>\n",
              "      <td>dept5</td>\n",
              "      <td>3400</td>\n",
              "      <td>5</td>\n",
              "      <td>5</td>\n",
              "    </tr>\n",
              "  </tbody>\n",
              "</table>\n",
              "</div>"
            ]
          },
          "metadata": {},
          "execution_count": 34
        }
      ]
    },
    {
      "cell_type": "code",
      "source": [
        "# Fill values from one column\n",
        "kdf_null['salary'] = kdf_null.salary.fillna(kdf_null.salary.median())\n",
        "kdf_null"
      ],
      "metadata": {
        "colab": {
          "base_uri": "https://localhost:8080/",
          "height": 394
        },
        "id": "G7ur-r10ZJfv",
        "outputId": "32567307-4a81-4152-caf7-d9f2a89a0922"
      },
      "execution_count": null,
      "outputs": [
        {
          "output_type": "execute_result",
          "data": {
            "text/plain": [
              "      id  name   dept  salary id_dept       dept_name\n",
              "0    1.0   AAA  dept1  1000.0   dept1  Department - 1\n",
              "1    2.0   BBB  dept1  1100.0   dept1  Department - 1\n",
              "2    3.0   CCC  dept1  3000.0   dept1  Department - 1\n",
              "3    4.0   DDD  dept1  1500.0   dept1  Department - 1\n",
              "4    5.0   EEE  dept2  8000.0   dept2  Department - 2\n",
              "5    6.0   FFF  dept2  7200.0   dept2  Department - 2\n",
              "6    7.0   GGG  dept3  7100.0   dept3  Department - 3\n",
              "7    8.0   HHH  dept3  3700.0   dept3  Department - 3\n",
              "8    9.0   III  dept3  4500.0   dept3  Department - 3\n",
              "9    NaN  None   None  3400.0   dept4  Department - 4\n",
              "10  10.0   JJJ  dept5  3400.0    None            None"
            ],
            "text/html": [
              "<div>\n",
              "<style scoped>\n",
              "    .dataframe tbody tr th:only-of-type {\n",
              "        vertical-align: middle;\n",
              "    }\n",
              "\n",
              "    .dataframe tbody tr th {\n",
              "        vertical-align: top;\n",
              "    }\n",
              "\n",
              "    .dataframe thead th {\n",
              "        text-align: right;\n",
              "    }\n",
              "</style>\n",
              "<table border=\"1\" class=\"dataframe\">\n",
              "  <thead>\n",
              "    <tr style=\"text-align: right;\">\n",
              "      <th></th>\n",
              "      <th>id</th>\n",
              "      <th>name</th>\n",
              "      <th>dept</th>\n",
              "      <th>salary</th>\n",
              "      <th>id_dept</th>\n",
              "      <th>dept_name</th>\n",
              "    </tr>\n",
              "  </thead>\n",
              "  <tbody>\n",
              "    <tr>\n",
              "      <th>0</th>\n",
              "      <td>1.0</td>\n",
              "      <td>AAA</td>\n",
              "      <td>dept1</td>\n",
              "      <td>1000.0</td>\n",
              "      <td>dept1</td>\n",
              "      <td>Department - 1</td>\n",
              "    </tr>\n",
              "    <tr>\n",
              "      <th>1</th>\n",
              "      <td>2.0</td>\n",
              "      <td>BBB</td>\n",
              "      <td>dept1</td>\n",
              "      <td>1100.0</td>\n",
              "      <td>dept1</td>\n",
              "      <td>Department - 1</td>\n",
              "    </tr>\n",
              "    <tr>\n",
              "      <th>2</th>\n",
              "      <td>3.0</td>\n",
              "      <td>CCC</td>\n",
              "      <td>dept1</td>\n",
              "      <td>3000.0</td>\n",
              "      <td>dept1</td>\n",
              "      <td>Department - 1</td>\n",
              "    </tr>\n",
              "    <tr>\n",
              "      <th>3</th>\n",
              "      <td>4.0</td>\n",
              "      <td>DDD</td>\n",
              "      <td>dept1</td>\n",
              "      <td>1500.0</td>\n",
              "      <td>dept1</td>\n",
              "      <td>Department - 1</td>\n",
              "    </tr>\n",
              "    <tr>\n",
              "      <th>4</th>\n",
              "      <td>5.0</td>\n",
              "      <td>EEE</td>\n",
              "      <td>dept2</td>\n",
              "      <td>8000.0</td>\n",
              "      <td>dept2</td>\n",
              "      <td>Department - 2</td>\n",
              "    </tr>\n",
              "    <tr>\n",
              "      <th>5</th>\n",
              "      <td>6.0</td>\n",
              "      <td>FFF</td>\n",
              "      <td>dept2</td>\n",
              "      <td>7200.0</td>\n",
              "      <td>dept2</td>\n",
              "      <td>Department - 2</td>\n",
              "    </tr>\n",
              "    <tr>\n",
              "      <th>6</th>\n",
              "      <td>7.0</td>\n",
              "      <td>GGG</td>\n",
              "      <td>dept3</td>\n",
              "      <td>7100.0</td>\n",
              "      <td>dept3</td>\n",
              "      <td>Department - 3</td>\n",
              "    </tr>\n",
              "    <tr>\n",
              "      <th>7</th>\n",
              "      <td>8.0</td>\n",
              "      <td>HHH</td>\n",
              "      <td>dept3</td>\n",
              "      <td>3700.0</td>\n",
              "      <td>dept3</td>\n",
              "      <td>Department - 3</td>\n",
              "    </tr>\n",
              "    <tr>\n",
              "      <th>8</th>\n",
              "      <td>9.0</td>\n",
              "      <td>III</td>\n",
              "      <td>dept3</td>\n",
              "      <td>4500.0</td>\n",
              "      <td>dept3</td>\n",
              "      <td>Department - 3</td>\n",
              "    </tr>\n",
              "    <tr>\n",
              "      <th>9</th>\n",
              "      <td>NaN</td>\n",
              "      <td>None</td>\n",
              "      <td>None</td>\n",
              "      <td>3400.0</td>\n",
              "      <td>dept4</td>\n",
              "      <td>Department - 4</td>\n",
              "    </tr>\n",
              "    <tr>\n",
              "      <th>10</th>\n",
              "      <td>10.0</td>\n",
              "      <td>JJJ</td>\n",
              "      <td>dept5</td>\n",
              "      <td>3400.0</td>\n",
              "      <td>None</td>\n",
              "      <td>None</td>\n",
              "    </tr>\n",
              "  </tbody>\n",
              "</table>\n",
              "</div>"
            ]
          },
          "metadata": {},
          "execution_count": 35
        }
      ]
    },
    {
      "cell_type": "code",
      "source": [
        "# Visualize data\n",
        "ks.options.plotting.backend = 'matplotlib' # Set matplotlib as default visualization library. Default is plotly\n",
        "\n",
        "kdf_null.groupby('dept').salary.median().plot.bar(figsize=(10, 5))\n",
        "plt.ylabel('salary')\n",
        "plt.xticks(rotation=0)"
      ],
      "metadata": {
        "colab": {
          "base_uri": "https://localhost:8080/",
          "height": 351
        },
        "id": "QMQ90TKiZJcP",
        "outputId": "ceeab2ac-951d-45c9-aedc-e093692e9a52"
      },
      "execution_count": null,
      "outputs": [
        {
          "output_type": "execute_result",
          "data": {
            "text/plain": [
              "(array([0, 1, 2, 3]), <a list of 4 Text major ticklabel objects>)"
            ]
          },
          "metadata": {},
          "execution_count": 36
        },
        {
          "output_type": "display_data",
          "data": {
            "text/plain": [
              "<Figure size 720x360 with 1 Axes>"
            ],
            "image/png": "[encoded data removed]"
          },
          "metadata": {
            "needs_background": "light"
          }
        }
      ]
    },
    {
      "cell_type": "code",
      "source": [
        "# Visualize data\n",
        "ks.options.plotting.backend = \"plotly\" \n",
        "\n",
        "kdf_null.groupby('dept').salary.median().plot.bar(title=\"Example Figure\", height=500, width=500)"
      ],
      "metadata": {
        "colab": {
          "base_uri": "https://localhost:8080/",
          "height": 517
        },
        "id": "EWXYAW-cZJZ8",
        "outputId": "9909851d-3d3c-4c8f-d071-39f531242242"
      },
      "execution_count": null,
      "outputs": [
        {
          "output_type": "display_data",
          "data": {
            "text/html": [
              "<html>\n",
              "<head><meta charset=\"utf-8\" /></head>\n",
              "<body>\n",
              "    <div>            <script src=\"https://cdnjs.cloudflare.com/ajax/libs/mathjax/2.7.5/MathJax.js?config=TeX-AMS-MML_SVG\"></script><script type=\"text/javascript\">if (window.MathJax) {MathJax.Hub.Config({SVG: {font: \"STIX-Web\"}});}</script>                <script type=\"text/javascript\">window.PlotlyConfig = {MathJaxConfig: 'local'};</script>\n",
              "        <script src=\"https://cdn.plot.ly/plotly-2.8.3.min.js\"></script>                <div id=\"d67e918f-8e05-461f-b902-ba00306219f9\" class=\"plotly-graph-div\" style=\"height:500px; width:500px;\"></div>            <script type=\"text/javascript\">                                    window.PLOTLYENV=window.PLOTLYENV || {};                                    if (document.getElementById(\"d67e918f-8e05-461f-b902-ba00306219f9\")) {                    Plotly.newPlot(                        \"d67e918f-8e05-461f-b902-ba00306219f9\",                        [{\"alignmentgroup\":\"True\",\"hovertemplate\":\"variable=salary<br>dept=%{x}<br>value=%{y}<extra></extra>\",\"legendgroup\":\"salary\",\"marker\":{\"color\":\"#636efa\",\"pattern\":{\"shape\":\"\"}},\"name\":\"salary\",\"offsetgroup\":\"salary\",\"orientation\":\"v\",\"showlegend\":true,\"textposition\":\"auto\",\"x\":[\"dept1\",\"dept2\",\"dept3\",\"dept5\"],\"xaxis\":\"x\",\"y\":[1100.0,7200.0,4500.0,3400.0],\"yaxis\":\"y\",\"type\":\"bar\"}],                        {\"template\":{\"data\":{\"bar\":[{\"error_x\":{\"color\":\"#2a3f5f\"},\"error_y\":{\"color\":\"#2a3f5f\"},\"marker\":{\"line\":{\"color\":\"#E5ECF6\",\"width\":0.5},\"pattern\":{\"fillmode\":\"overlay\",\"size\":10,\"solidity\":0.2}},\"type\":\"bar\"}],\"barpolar\":[{\"marker\":{\"line\":{\"color\":\"#E5ECF6\",\"width\":0.5},\"pattern\":{\"fillmode\":\"overlay\",\"size\":10,\"solidity\":0.2}},\"type\":\"barpolar\"}],\"carpet\":[{\"aaxis\":{\"endlinecolor\":\"#2a3f5f\",\"gridcolor\":\"white\",\"linecolor\":\"white\",\"minorgridcolor\":\"white\",\"startlinecolor\":\"#2a3f5f\"},\"baxis\":{\"endlinecolor\":\"#2a3f5f\",\"gridcolor\":\"white\",\"linecolor\":\"white\",\"minorgridcolor\":\"white\",\"startlinecolor\":\"#2a3f5f\"},\"type\":\"carpet\"}],\"choropleth\":[{\"colorbar\":{\"outlinewidth\":0,\"ticks\":\"\"},\"type\":\"choropleth\"}],\"contour\":[{\"colorbar\":{\"outlinewidth\":0,\"ticks\":\"\"},\"colorscale\":[[0.0,\"#0d0887\"],[0.1111111111111111,\"#46039f\"],[0.2222222222222222,\"#7201a8\"],[0.3333333333333333,\"#9c179e\"],[0.4444444444444444,\"#bd3786\"],[0.5555555555555556,\"#d8576b\"],[0.6666666666666666,\"#ed7953\"],[0.7777777777777778,\"#fb9f3a\"],[0.8888888888888888,\"#fdca26\"],[1.0,\"#f0f921\"]],\"type\":\"contour\"}],\"contourcarpet\":[{\"colorbar\":{\"outlinewidth\":0,\"ticks\":\"\"},\"type\":\"contourcarpet\"}],\"heatmap\":[{\"colorbar\":{\"outlinewidth\":0,\"ticks\":\"\"},\"colorscale\":[[0.0,\"#0d0887\"],[0.1111111111111111,\"#46039f\"],[0.2222222222222222,\"#7201a8\"],[0.3333333333333333,\"#9c179e\"],[0.4444444444444444,\"#bd3786\"],[0.5555555555555556,\"#d8576b\"],[0.6666666666666666,\"#ed7953\"],[0.7777777777777778,\"#fb9f3a\"],[0.8888888888888888,\"#fdca26\"],[1.0,\"#f0f921\"]],\"type\":\"heatmap\"}],\"heatmapgl\":[{\"colorbar\":{\"outlinewidth\":0,\"ticks\":\"\"},\"colorscale\":[[0.0,\"#0d0887\"],[0.1111111111111111,\"#46039f\"],[0.2222222222222222,\"#7201a8\"],[0.3333333333333333,\"#9c179e\"],[0.4444444444444444,\"#bd3786\"],[0.5555555555555556,\"#d8576b\"],[0.6666666666666666,\"#ed7953\"],[0.7777777777777778,\"#fb9f3a\"],[0.8888888888888888,\"#fdca26\"],[1.0,\"#f0f921\"]],\"type\":\"heatmapgl\"}],\"histogram\":[{\"marker\":{\"pattern\":{\"fillmode\":\"overlay\",\"size\":10,\"solidity\":0.2}},\"type\":\"histogram\"}],\"histogram2d\":[{\"colorbar\":{\"outlinewidth\":0,\"ticks\":\"\"},\"colorscale\":[[0.0,\"#0d0887\"],[0.1111111111111111,\"#46039f\"],[0.2222222222222222,\"#7201a8\"],[0.3333333333333333,\"#9c179e\"],[0.4444444444444444,\"#bd3786\"],[0.5555555555555556,\"#d8576b\"],[0.6666666666666666,\"#ed7953\"],[0.7777777777777778,\"#fb9f3a\"],[0.8888888888888888,\"#fdca26\"],[1.0,\"#f0f921\"]],\"type\":\"histogram2d\"}],\"histogram2dcontour\":[{\"colorbar\":{\"outlinewidth\":0,\"ticks\":\"\"},\"colorscale\":[[0.0,\"#0d0887\"],[0.1111111111111111,\"#46039f\"],[0.2222222222222222,\"#7201a8\"],[0.3333333333333333,\"#9c179e\"],[0.4444444444444444,\"#bd3786\"],[0.5555555555555556,\"#d8576b\"],[0.6666666666666666,\"#ed7953\"],[0.7777777777777778,\"#fb9f3a\"],[0.8888888888888888,\"#fdca26\"],[1.0,\"#f0f921\"]],\"type\":\"histogram2dcontour\"}],\"mesh3d\":[{\"colorbar\":{\"outlinewidth\":0,\"ticks\":\"\"},\"type\":\"mesh3d\"}],\"parcoords\":[{\"line\":{\"colorbar\":{\"outlinewidth\":0,\"ticks\":\"\"}},\"type\":\"parcoords\"}],\"pie\":[{\"automargin\":true,\"type\":\"pie\"}],\"scatter\":[{\"marker\":{\"colorbar\":{\"outlinewidth\":0,\"ticks\":\"\"}},\"type\":\"scatter\"}],\"scatter3d\":[{\"line\":{\"colorbar\":{\"outlinewidth\":0,\"ticks\":\"\"}},\"marker\":{\"colorbar\":{\"outlinewidth\":0,\"ticks\":\"\"}},\"type\":\"scatter3d\"}],\"scattercarpet\":[{\"marker\":{\"colorbar\":{\"outlinewidth\":0,\"ticks\":\"\"}},\"type\":\"scattercarpet\"}],\"scattergeo\":[{\"marker\":{\"colorbar\":{\"outlinewidth\":0,\"ticks\":\"\"}},\"type\":\"scattergeo\"}],\"scattergl\":[{\"marker\":{\"colorbar\":{\"outlinewidth\":0,\"ticks\":\"\"}},\"type\":\"scattergl\"}],\"scattermapbox\":[{\"marker\":{\"colorbar\":{\"outlinewidth\":0,\"ticks\":\"\"}},\"type\":\"scattermapbox\"}],\"scatterpolar\":[{\"marker\":{\"colorbar\":{\"outlinewidth\":0,\"ticks\":\"\"}},\"type\":\"scatterpolar\"}],\"scatterpolargl\":[{\"marker\":{\"colorbar\":{\"outlinewidth\":0,\"ticks\":\"\"}},\"type\":\"scatterpolargl\"}],\"scatterternary\":[{\"marker\":{\"colorbar\":{\"outlinewidth\":0,\"ticks\":\"\"}},\"type\":\"scatterternary\"}],\"surface\":[{\"colorbar\":{\"outlinewidth\":0,\"ticks\":\"\"},\"colorscale\":[[0.0,\"#0d0887\"],[0.1111111111111111,\"#46039f\"],[0.2222222222222222,\"#7201a8\"],[0.3333333333333333,\"#9c179e\"],[0.4444444444444444,\"#bd3786\"],[0.5555555555555556,\"#d8576b\"],[0.6666666666666666,\"#ed7953\"],[0.7777777777777778,\"#fb9f3a\"],[0.8888888888888888,\"#fdca26\"],[1.0,\"#f0f921\"]],\"type\":\"surface\"}],\"table\":[{\"cells\":{\"fill\":{\"color\":\"#EBF0F8\"},\"line\":{\"color\":\"white\"}},\"header\":{\"fill\":{\"color\":\"#C8D4E3\"},\"line\":{\"color\":\"white\"}},\"type\":\"table\"}]},\"layout\":{\"annotationdefaults\":{\"arrowcolor\":\"#2a3f5f\",\"arrowhead\":0,\"arrowwidth\":1},\"autotypenumbers\":\"strict\",\"coloraxis\":{\"colorbar\":{\"outlinewidth\":0,\"ticks\":\"\"}},\"colorscale\":{\"diverging\":[[0,\"#8e0152\"],[0.1,\"#c51b7d\"],[0.2,\"#de77ae\"],[0.3,\"#f1b6da\"],[0.4,\"#fde0ef\"],[0.5,\"#f7f7f7\"],[0.6,\"#e6f5d0\"],[0.7,\"#b8e186\"],[0.8,\"#7fbc41\"],[0.9,\"#4d9221\"],[1,\"#276419\"]],\"sequential\":[[0.0,\"#0d0887\"],[0.1111111111111111,\"#46039f\"],[0.2222222222222222,\"#7201a8\"],[0.3333333333333333,\"#9c179e\"],[0.4444444444444444,\"#bd3786\"],[0.5555555555555556,\"#d8576b\"],[0.6666666666666666,\"#ed7953\"],[0.7777777777777778,\"#fb9f3a\"],[0.8888888888888888,\"#fdca26\"],[1.0,\"#f0f921\"]],\"sequentialminus\":[[0.0,\"#0d0887\"],[0.1111111111111111,\"#46039f\"],[0.2222222222222222,\"#7201a8\"],[0.3333333333333333,\"#9c179e\"],[0.4444444444444444,\"#bd3786\"],[0.5555555555555556,\"#d8576b\"],[0.6666666666666666,\"#ed7953\"],[0.7777777777777778,\"#fb9f3a\"],[0.8888888888888888,\"#fdca26\"],[1.0,\"#f0f921\"]]},\"colorway\":[\"#636efa\",\"#EF553B\",\"#00cc96\",\"#ab63fa\",\"#FFA15A\",\"#19d3f3\",\"#FF6692\",\"#B6E880\",\"#FF97FF\",\"#FECB52\"],\"font\":{\"color\":\"#2a3f5f\"},\"geo\":{\"bgcolor\":\"white\",\"lakecolor\":\"white\",\"landcolor\":\"#E5ECF6\",\"showlakes\":true,\"showland\":true,\"subunitcolor\":\"white\"},\"hoverlabel\":{\"align\":\"left\"},\"hovermode\":\"closest\",\"mapbox\":{\"style\":\"light\"},\"paper_bgcolor\":\"white\",\"plot_bgcolor\":\"#E5ECF6\",\"polar\":{\"angularaxis\":{\"gridcolor\":\"white\",\"linecolor\":\"white\",\"ticks\":\"\"},\"bgcolor\":\"#E5ECF6\",\"radialaxis\":{\"gridcolor\":\"white\",\"linecolor\":\"white\",\"ticks\":\"\"}},\"scene\":{\"xaxis\":{\"backgroundcolor\":\"#E5ECF6\",\"gridcolor\":\"white\",\"gridwidth\":2,\"linecolor\":\"white\",\"showbackground\":true,\"ticks\":\"\",\"zerolinecolor\":\"white\"},\"yaxis\":{\"backgroundcolor\":\"#E5ECF6\",\"gridcolor\":\"white\",\"gridwidth\":2,\"linecolor\":\"white\",\"showbackground\":true,\"ticks\":\"\",\"zerolinecolor\":\"white\"},\"zaxis\":{\"backgroundcolor\":\"#E5ECF6\",\"gridcolor\":\"white\",\"gridwidth\":2,\"linecolor\":\"white\",\"showbackground\":true,\"ticks\":\"\",\"zerolinecolor\":\"white\"}},\"shapedefaults\":{\"line\":{\"color\":\"#2a3f5f\"}},\"ternary\":{\"aaxis\":{\"gridcolor\":\"white\",\"linecolor\":\"white\",\"ticks\":\"\"},\"baxis\":{\"gridcolor\":\"white\",\"linecolor\":\"white\",\"ticks\":\"\"},\"bgcolor\":\"#E5ECF6\",\"caxis\":{\"gridcolor\":\"white\",\"linecolor\":\"white\",\"ticks\":\"\"}},\"title\":{\"x\":0.05},\"xaxis\":{\"automargin\":true,\"gridcolor\":\"white\",\"linecolor\":\"white\",\"ticks\":\"\",\"title\":{\"standoff\":15},\"zerolinecolor\":\"white\",\"zerolinewidth\":2},\"yaxis\":{\"automargin\":true,\"gridcolor\":\"white\",\"linecolor\":\"white\",\"ticks\":\"\",\"title\":{\"standoff\":15},\"zerolinecolor\":\"white\",\"zerolinewidth\":2}}},\"xaxis\":{\"anchor\":\"y\",\"domain\":[0.0,1.0],\"title\":{\"text\":\"dept\"}},\"yaxis\":{\"anchor\":\"x\",\"domain\":[0.0,1.0],\"title\":{\"text\":\"value\"}},\"legend\":{\"title\":{\"text\":\"variable\"},\"tracegroupgap\":0},\"title\":{\"text\":\"Example Figure\"},\"barmode\":\"relative\",\"height\":500,\"width\":500},                        {\"responsive\": true}                    ).then(function(){\n",
              "                            \n",
              "var gd = document.getElementById('d67e918f-8e05-461f-b902-ba00306219f9');\n",
              "var x = new MutationObserver(function (mutations, observer) {{\n",
              "        var display = window.getComputedStyle(gd).display;\n",
              "        if (!display || display === 'none') {{\n",
              "            console.log([gd, 'removed!']);\n",
              "            Plotly.purge(gd);\n",
              "            observer.disconnect();\n",
              "        }}\n",
              "}});\n",
              "\n",
              "// Listen for the removal of the full notebook cells\n",
              "var notebookContainer = gd.closest('#notebook-container');\n",
              "if (notebookContainer) {{\n",
              "    x.observe(notebookContainer, {childList: true});\n",
              "}}\n",
              "\n",
              "// Listen for the clearing of the current output cell\n",
              "var outputEl = gd.closest('.output');\n",
              "if (outputEl) {{\n",
              "    x.observe(outputEl, {childList: true});\n",
              "}}\n",
              "\n",
              "                        })                };                            </script>        </div>\n",
              "</body>\n",
              "</html>"
            ]
          },
          "metadata": {}
        }
      ]
    },
    {
      "cell_type": "code",
      "source": [
        "# Save data as csv using koalas\n",
        "kdf_null.to_csv('PATH.csv')\n",
        "\n",
        "# Save data as parquet using koalas\n",
        "kdf_null.to_parquet('PATH.parquet')\n",
        "\n",
        "# Save data as ORC using koalas\n",
        "kdf_null.to_spark_io('PATH.orc', format='orc')"
      ],
      "metadata": {
        "id": "nkGkA5U3ZJX0"
      },
      "execution_count": null,
      "outputs": []
    },
    {
      "cell_type": "code",
      "source": [
        "# Read data from csv using koalas\n",
        "ks.read_csv('PATH.csv')\n",
        "\n",
        "# Save data as parquet using koalas\n",
        "ks.read_parquet('PATH.parquet')\n",
        "\n",
        "# Save data as ORC using koalas\n",
        "ks.read_spark_io('PATH.orc', format='orc')"
      ],
      "metadata": {
        "id": "CeoRQNp3ZJVe"
      },
      "execution_count": null,
      "outputs": []
    }
  ]
}